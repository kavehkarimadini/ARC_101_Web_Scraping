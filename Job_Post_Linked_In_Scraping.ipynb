{
 "cells": [
  {
   "cell_type": "code",
   "execution_count": 3,
   "id": "7d67c85d",
   "metadata": {},
   "outputs": [],
   "source": [
    "# Import necessary libraries\n",
    "from selenium import webdriver\n",
    "from selenium.webdriver.chrome.service import Service\n",
    "from selenium.webdriver.common.by import By\n",
    "from selenium.webdriver.chrome.options import Options\n",
    "# from bs4 import BeautifulSoup  # Commented out this import\n",
    "from selenium.webdriver.common.keys import Keys\n",
    "import requests\n",
    "import csv\n",
    "import time\n",
    "# import imghdr  # Commented out this import\n",
    "import re\n",
    "import os\n",
    "import pandas as pd"
   ]
  },
  {
   "cell_type": "code",
   "execution_count": 4,
   "id": "5a0e60ff",
   "metadata": {},
   "outputs": [],
   "source": [
    "def save_2_file(name, items):\n",
    "    # Open the file in append mode\n",
    "    with open(name, \"a\") as f:\n",
    "        # Write each item to the file\n",
    "        for item in items:\n",
    "            f.write(\"%s\\n\" % item)"
   ]
  },
  {
   "cell_type": "code",
   "execution_count": 5,
   "id": "ec9ee984-d4fc-4247-98a3-dcce2038205f",
   "metadata": {},
   "outputs": [],
   "source": [
    "# Configure Selenium options\n",
    "options = Options()  # Create an instance of the Options class\n",
    "\n",
    "# Uncomment the following line if you want to run in headless mode (without opening a browser window)\n",
    "# options.headless = True\n",
    "\n",
    "# Add the version flag to the browser options\n",
    "options.add_argument('-v')\n",
    "\n",
    "# Uncomment the next line if you want to set a specific browser version (e.g., 69.0)\n",
    "# options.browser_version = '114.0.5735.110'\n",
    "\n",
    "# Specify the binary location for Google Chrome\n",
    "options.binary_location = r\"C:\\Program Files\\Google\\Chrome\\Application\\chrome.exe\"\n",
    "\n",
    "# Add the user data directory path (profile) for Chrome\n",
    "options.add_argument(r\"C:\\Users\\kaveh\\AppData\\Local\\Google\\Chrome\\User-Data\\Default\")\n",
    "\n",
    "# Path to your ChromeDriver executable\n",
    "driver_path = 'chromedriver.exe'"
   ]
  },
  {
   "cell_type": "markdown",
   "id": "9ed67bb0-2d79-4762-8efc-54b02d3112bd",
   "metadata": {},
   "source": [
    "> Here's what each part does:\n",
    ">> 1. `options = Options()`: Creates an instance of the `Options` class, which allows you to customize various settings for the Selenium WebDriver.\n",
    ">> 2. `options.headless = True`: If uncommented, this line would run the browser in headless mode (without displaying a visible browser window). Useful for automated testing or scraping.\n",
    ">> 3. `options.add_argument('-v')`: Adds the version flag to the browser options. This flag is not a standard Selenium option, so its effect depends on the specific WebDriver you're using.\n",
    ">> 4. `options.browser_version = '114.0.5735.110'`: If uncommented, this line would set a specific browser version (e.g., Chrome 69.0). Make sure the version matches the installed browser version.\n",
    ">> 5. `options.binary_location`: Specifies the path to the Chrome binary (executable file).\n",
    ">> 6. `options.add_argument(r\"C:\\Users\\kaveh\\AppData\\Local\\Google\\Chrome\\User-Data\\Default\")`: Adds the user data directory (profile) for Chrome. This allows you to use an existing Chrome profile with saved settings, bookmarks, etc.\n",
    ">> 7. `driver_path = 'chromedriver.exe'`: Sets the path to the ChromeDriver executable. ChromeDriver is necessary for Selenium to interact with the Chrome browser."
   ]
  },
  {
   "cell_type": "code",
   "execution_count": 6,
   "id": "8ee31568",
   "metadata": {},
   "outputs": [],
   "source": [
    "# Initialize a Chrome WebDriver instance\n",
    "driver = webdriver.Chrome(service=Service(driver_path), options=options)"
   ]
  },
  {
   "cell_type": "markdown",
   "id": "29f7bdbb-adb8-4030-ade1-d50ecf01b2d9",
   "metadata": {},
   "source": [
    "> Here's what's happening:\n",
    ">> 1. `webdriver.Chrome`: This line creates an instance of the Chrome WebDriver. The `webdriver` module is part of Selenium, and `Chrome` specifies that we want to use the Chrome browser.\n",
    ">> 2. `service=Service(driver_path)`: The `Service` class allows you to specify the path to the ChromeDriver executable. It ensures that the ChromeDriver is properly configured and ready to communicate with the Chrome browser.\n",
    ">> 3. `options=options`: We pass the previously defined `options` object to customize the behavior of the Chrome WebDriver. These options include settings like headless mode, browser version, binary location, and user data directory.\n",
    "\n",
    "> - In summary, this line initializes a connection to the Chrome browser using the ChromeDriver executable located at `driver_path`, with the specified options. You can now use the `driver` object to interact with web pages programmatically."
   ]
  },
  {
   "cell_type": "code",
   "execution_count": 9,
   "id": "f8eff937",
   "metadata": {},
   "outputs": [],
   "source": [
    "# #get current window handle\n",
    "# p = driver.current_window_handle\n",
    "# #get first child window\n",
    "# chwd = driver.window_handles"
   ]
  },
  {
   "cell_type": "markdown",
   "id": "007bec68-6755-450c-9cf5-e839a0bccd0c",
   "metadata": {},
   "source": [
    "> Here's what each line does:\n",
    ">> 1. `p = driver.current_window_handle`: This line retrieves the current window handle (also known as the window ID) for the main browser window. The window handle is a unique identifier that allows you to interact with a specific browser window.\n",
    ">> 2. `chwd = driver.window_handles`: This line retrieves a list of all window handles currently open in the browser session. If there are multiple browser windows or tabs open (e.g., pop-up windows), this list will include all of them.\n",
    "\n",
    "> - You can use these handles to switch between different windows or perform actions on specific windows. For example, if you open a new tab or window during your script execution, you can switch to it using the appropriate window handle."
   ]
  },
  {
   "cell_type": "code",
   "execution_count": 7,
   "id": "2e6a5b75",
   "metadata": {},
   "outputs": [],
   "source": [
    "# chwd"
   ]
  },
  {
   "cell_type": "code",
   "execution_count": 8,
   "id": "ee2cdec3",
   "metadata": {},
   "outputs": [],
   "source": [
    "# driver.switch_to.window(chwd[1])"
   ]
  },
  {
   "cell_type": "markdown",
   "id": "32d532dd",
   "metadata": {},
   "source": [
    "# for one job post at a time, not automation!!!!"
   ]
  },
  {
   "cell_type": "markdown",
   "id": "2063dcd7-73b4-4b8a-973f-f74c4bf4c3e6",
   "metadata": {},
   "source": [
    "> ## Top container, above appling, summarized info"
   ]
  },
  {
   "cell_type": "code",
   "execution_count": 1270,
   "id": "99aeb61e-ceae-48f9-b872-8675acc64841",
   "metadata": {},
   "outputs": [],
   "source": [
    "#//div[contains(@class,'job-details-jobs-unified-top-card__container--two-pane')]--> top container, above appling summarize info\n",
    "#//div[contains(@class,'job-details-jobs-unified-top-card__container--two-pane')]//h2[contains(@class,'job-details-jobs-unified-top-card__job-title')]//span[contains(@class,'job-details-jobs-unified-top-card__job-title')]--> Job_Title\n",
    "#//div[contains(@class,'job-details-jobs-unified-top-card__container--two-pane')]//div[contains(@class,'job-details-jobs-unified-top-card__primary-description-without-tagline')]--> below job title, location_Time_Aplicants\n",
    "#//div[contains(@class,'job-details-jobs-unified-top-card__container--two-pane')]//div[@class='mt3 mb2']--> Job_apply_summarized_details"
   ]
  },
  {
   "cell_type": "code",
   "execution_count": 1271,
   "id": "2fe202b5-54e4-4d67-b94e-59aab143e43c",
   "metadata": {},
   "outputs": [],
   "source": [
    "# Find the element with the specified XPath\n",
    "Job_Title = driver.find_element(By.XPATH,\"//div[contains(@class,'job-details-jobs-unified-top-card__container--two-pane')]//h2[contains(@class,'job-details-jobs-unified-top-card__job-title')]//span[contains(@class,'job-details-jobs-unified-top-card__job-title')]\")"
   ]
  },
  {
   "cell_type": "markdown",
   "id": "28358b1a-a823-494c-b499-1e73f8fc059a",
   "metadata": {},
   "source": [
    "> Here's what's happening:\n",
    ">> 1. `driver.find_element(By.XPATH, \"html tag\")`: This line uses Selenium's `find_element` method to locate an HTML element based on its XPath expression. The `By.XPATH` argument specifies that we're using an XPath locator.\n",
    ">> 2. `\"html tag\"`: Replace this placeholder with the actual XPath expression that corresponds to the specific HTML element you want to interact with. An XPath expression is a path that uniquely identifies an element in the HTML structure. For example, it might look like `\"//div[@class='job-title']\"` if you're trying to find a job title within a `<div>` element with a specific class.\n",
    "\n",
    "> - Remember to customize the XPath to match the specific element you're interested in. If you need further assistance, feel free to ask! 😊"
   ]
  },
  {
   "cell_type": "code",
   "execution_count": 1272,
   "id": "7746e590-5eba-434e-99b0-b976373cc629",
   "metadata": {},
   "outputs": [
    {
     "data": {
      "text/plain": [
       "'Management Accountant'"
      ]
     },
     "execution_count": 1272,
     "metadata": {},
     "output_type": "execute_result"
    }
   ],
   "source": [
    "# Get the text content of the Job_Title element\n",
    "Job_Title_element = Job_Title.text\n",
    "Job_Title_element"
   ]
  },
  {
   "cell_type": "markdown",
   "id": "dbe9da76-5ab0-4140-b619-880405a80f11",
   "metadata": {},
   "source": [
    "> Here's what's happening:\n",
    ">> 1. `Job_Title.text`: This line retrieves the visible text content of the `Job_Title` element. If the element represents a job title on a web page, this variable (`Job_Title_element`) will store the job title as a string.\n",
    "\n",
    "> - You can use this extracted text for further processing or display purposes in your script."
   ]
  },
  {
   "cell_type": "code",
   "execution_count": 1273,
   "id": "724e9eda-69ad-4b89-bdeb-d6f587bac53d",
   "metadata": {},
   "outputs": [],
   "source": [
    "# only one \n",
    "location_Time_Aplicants = driver.find_element(By.XPATH,\"//div[contains(@class,'job-details-jobs-unified-top-card__container--two-pane')]//div[contains(@class,'job-details-jobs-unified-top-card__primary-description-without-tagline')]\")"
   ]
  },
  {
   "cell_type": "code",
   "execution_count": 1274,
   "id": "0bf0f291-b2f9-4bfe-b302-5d2ad45b53e5",
   "metadata": {},
   "outputs": [
    {
     "data": {
      "text/plain": [
       "'PERSOLKELLY · George Town, Penang, Malaysia · 3 weeks ago · 3 applicants'"
      ]
     },
     "execution_count": 1274,
     "metadata": {},
     "output_type": "execute_result"
    }
   ],
   "source": [
    "location_Time_Aplicants_element = location_Time_Aplicants.text\n",
    "location_Time_Aplicants_element"
   ]
  },
  {
   "cell_type": "code",
   "execution_count": 1275,
   "id": "ee48173f-c04f-460f-90c5-55833c0aa2a1",
   "metadata": {},
   "outputs": [],
   "source": [
    "#only one \n",
    "Job_apply_summarized_details = driver.find_element(By.XPATH,\"//div[contains(@class,'job-details-jobs-unified-top-card__container--two-pane')]//div[@class='mt3 mb2']\")"
   ]
  },
  {
   "cell_type": "code",
   "execution_count": 1276,
   "id": "8bd88416-496d-4a72-9b6e-c2ca8dcb4f79",
   "metadata": {},
   "outputs": [
    {
     "data": {
      "text/plain": [
       "['On-site Full-time Entry level',\n",
       " '1,001-5,000 employees · Human Resources Services',\n",
       " 'Skills: Financial Reporting, Variance Analysis, +8 more']"
      ]
     },
     "execution_count": 1276,
     "metadata": {},
     "output_type": "execute_result"
    }
   ],
   "source": [
    "# Split the text content of Job_apply_summarized_details by newline characters\n",
    "Job_apply_summarized_details_elements = Job_apply_summarized_details.text.split(\"\\n\")\n",
    "Job_apply_summarized_details_elements"
   ]
  },
  {
   "cell_type": "markdown",
   "id": "e44d34b1-8f1e-4d38-9957-d0a35a53c0d6",
   "metadata": {},
   "source": [
    "> Here's what's happening:\n",
    ">> 1. `Job_apply_summarized_details.text`: This retrieves the visible text content of the `Job_apply_summarized_details` element. If this element represents summarized job application details (such as a list of requirements or instructions), we're extracting the entire text.\n",
    ">> 2. `.split(\"\\n\")`: This method splits the extracted text into a list of strings, using newline characters (`\"\\n\"`) as the delimiter. Each element in the resulting list corresponds to a line of text from the original content.\n",
    "\n",
    "> **Example:** if the original text was:\n",
    "> ```\n",
    "> \"Please submit the following documents:\\n1. Resume\\n2. Cover letter\\n3. References\"\n",
    "> ```\n",
    ">> The resulting list would be `[\"Please submit the following documents:\", \"1. Resume\", \"2. Cover letter\", \"3. References\"]`."
   ]
  },
  {
   "cell_type": "markdown",
   "id": "b28053ca-b996-4038-907c-fddf97adc5d1",
   "metadata": {},
   "source": [
    "> # About Job"
   ]
  },
  {
   "cell_type": "code",
   "execution_count": 1277,
   "id": "cd42f177-6991-4096-8317-90ca91ce28f4",
   "metadata": {},
   "outputs": [],
   "source": [
    "#//div[contains(@class,'jobs-box--fadein jobs-box--full-width jobs-box--with-cta-large jobs-description')]//article[contains(@class,'jobs-description__container')]//span-->About_Job\n",
    "#//div[contains(@class,'jobs-box--fadein jobs-box--full-width jobs-box--with-cta-large jobs-description')]//article[contains(@class,'jobs-description__container')]//div[contains(@class,'jobs-box__html-content jobs-description-content__text t-14 t-normal')]--> new about the Job xpath\n",
    "#//div[contains(@class,'jobs-box--fadein jobs-box--full-width jobs-box--with-cta-large jobs-description')]//article[contains(@class,'jobs-description__container')]//p[contains(@class,'t-black--light')]-->Job_Post_Date\n",
    "#//ul[contains(@class,'job-details-skill-match-status-list')]-->Pop_Up_qualifications_skills"
   ]
  },
  {
   "cell_type": "code",
   "execution_count": 1278,
   "id": "25a701bf-ccd6-4d1e-86ec-743488017114",
   "metadata": {},
   "outputs": [],
   "source": [
    "Job_Post_Date = driver.find_element(By.XPATH,\"//div[contains(@class,'jobs-box--fadein jobs-box--full-width jobs-box--with-cta-large jobs-description')]//article[contains(@class,'jobs-description__container')]//p[contains(@class,'t-black--light')]\")"
   ]
  },
  {
   "cell_type": "code",
   "execution_count": 1279,
   "id": "e88382d5-a05f-447a-9231-d6b0fc042ed1",
   "metadata": {},
   "outputs": [
    {
     "data": {
      "text/plain": [
       "'Posted on Jan 31, 2024.'"
      ]
     },
     "execution_count": 1279,
     "metadata": {},
     "output_type": "execute_result"
    }
   ],
   "source": [
    "Job_Post_Date_element = Job_Post_Date.text\n",
    "Job_Post_Date_element"
   ]
  },
  {
   "cell_type": "code",
   "execution_count": 1280,
   "id": "a19a300c-421f-44a9-af89-bddfa5256bfb",
   "metadata": {},
   "outputs": [],
   "source": [
    "About_Job = driver.find_element(By.XPATH,\"//div[contains(@class,'jobs-box--fadein jobs-box--full-width jobs-box--with-cta-large jobs-description')]//article[contains(@class,'jobs-description__container')]//div[contains(@class,'jobs-box__html-content jobs-description-content__text t-14 t-normal')]\")"
   ]
  },
  {
   "cell_type": "code",
   "execution_count": 1281,
   "id": "ce1b110e-d98b-4459-be15-062797c0c1c6",
   "metadata": {},
   "outputs": [
    {
     "data": {
      "text/plain": [
       "'About the job. Job Description.  Assist in overseeing both accounting and finance functions of the hospital and its subsidiaries.  Prepare management report includes consolidation of group accounts and financial analysis.  Review accounting transactions and ensure accuracy, completeness and timeliness of data and reports.  Assist in budgetary planning, forecasting, monitor and perform variance analysis as required.  Assist in process and system improvement, system enhancement and internal controls implementation.  To liaise with auditor, tax agents, company secretary and government authorities.  Ad hoc tasks as required by the Management from time to time. Requirements.  Possess professional accounting qualification and an active member of MIA or equivalent .  Minimum 5 years’ working experience in handling full set of account and financial reporting.  Exposure in budgetary planning, forecasting, payroll and tax.  Audit experience and familiarity in healthcare or service industry will be an added advantage.  Prefer candidate with good attitude, mature, meticulous, strong sense of responsibility and diligent.  Able to work independently (under minimum supervision) and collaborate with other team in troubleshooting.  Working hours: Monday - Friday 9AM-5:30PM (Working on alternate Saturdays)'"
      ]
     },
     "execution_count": 1281,
     "metadata": {},
     "output_type": "execute_result"
    }
   ],
   "source": [
    "About_Job = About_Job.text.replace(\".\\n\\n\",\". \").replace(\"\\n\\n\",\". \").replace(\"\\n\",\". \")\n",
    "About_Job"
   ]
  },
  {
   "cell_type": "code",
   "execution_count": 1282,
   "id": "e4c43f42",
   "metadata": {},
   "outputs": [],
   "source": [
    "try:\n",
    "    Pop_Up_qualifications_skills = driver.find_element(By.XPATH,\"//ul[contains(@class,'job-details-skill-match-status-list')]\")\n",
    "    Pop_up_skills_elements = Pop_Up_qualifications_skills.text.replace(\"\\nAdd\",\"\").split(\"\\n\")\n",
    "except:\n",
    "    Pop_up_skills_elements = None"
   ]
  },
  {
   "cell_type": "code",
   "execution_count": 1283,
   "id": "46112780-bd39-420b-85ee-21b0ed5f0098",
   "metadata": {},
   "outputs": [
    {
     "name": "stdout",
     "output_type": "stream",
     "text": [
      "['Accruals', 'Analytical Skills', 'Budgeting', 'Cash Flow', 'Chartered Institute of Management Accountants (CIMA)', 'Finance', 'Financial Reporting', 'Forecasting', 'Management Accounting', 'Variance Analysis']\n"
     ]
    }
   ],
   "source": [
    "print(Pop_up_skills_elements)"
   ]
  },
  {
   "cell_type": "markdown",
   "id": "f78db643-3e51-41ab-866f-563d36ba14e9",
   "metadata": {},
   "source": [
    "> # About the company"
   ]
  },
  {
   "cell_type": "code",
   "execution_count": 1284,
   "id": "7cfee012-7e2e-4e76-bc65-dfc12f6b2dd0",
   "metadata": {},
   "outputs": [],
   "source": [
    "# //div[@class='jobs-company__box']/*[(not(self::section))and(not(self::h2))] -->all elements of About_The_company excluding the title and below section\n",
    "#"
   ]
  },
  {
   "cell_type": "markdown",
   "id": "e0456341-b5b3-4da0-a1c8-c722b99e274d",
   "metadata": {},
   "source": [
    "## In Selenium, `driver.find_element` and `driver.find_elements` are commands used to locate elements within a web page. Here's the difference:\n",
    "\n",
    "1. **`driver.find_element`**:\n",
    "   - Retrieves a **single element** that matches the specified locator.\n",
    "   - Useful when you want to interact with a specific element on the page.\n",
    "   - Returns a **WebElement** object.\n",
    "   - Example syntax:\n",
    "     ```python\n",
    "     element = driver.find_element(By.<LocatorStrategy>(\"LocatorValue\"))\n",
    "     ```\n",
    "___________________\n",
    "2. **`driver.find_elements`**:\n",
    "   - Returns a **list of all matching elements** that match the specified locator.\n",
    "   - Useful when you need to work with multiple elements (e.g., all links on a page).\n",
    "   - Returns a **list of WebElement objects**.\n",
    "   - Example syntax:\n",
    "     ```python\n",
    "     elements = driver.find_elements(By.<LocatorStrategy>(\"LocatorValue\"))\n",
    "     ```"
   ]
  },
  {
   "cell_type": "code",
   "execution_count": 1285,
   "id": "292e7e86-a99e-439e-ad2d-5754e5ce86bb",
   "metadata": {},
   "outputs": [],
   "source": [
    "About_The_company = driver.find_elements(By.XPATH,\"//div[@class='jobs-company__box']/*[(not(self::section))and(not(self::h2))]\")"
   ]
  },
  {
   "cell_type": "code",
   "execution_count": 1286,
   "id": "a3798fa1-0322-43a5-aa85-6108937ea21a",
   "metadata": {},
   "outputs": [
    {
     "data": {
      "text/plain": [
       "4"
      ]
     },
     "execution_count": 1286,
     "metadata": {},
     "output_type": "execute_result"
    }
   ],
   "source": [
    "len(About_The_company)"
   ]
  },
  {
   "cell_type": "code",
   "execution_count": 1287,
   "id": "e04a2e8a-38b4-4788-b68a-2c5084127ac6",
   "metadata": {},
   "outputs": [],
   "source": [
    "About_The_company_elements = []\n",
    "for elem in About_The_company:\n",
    "    About_The_company_elements.append(elem.text.replace(\"\\nFollow\",\"\").replace(\".\\n\",\". \").replace(\"\\n\",\". \"))"
   ]
  },
  {
   "cell_type": "markdown",
   "id": "df0c52fa-1de5-421e-ac6c-b7ba7d9dd8b9",
   "metadata": {},
   "source": [
    "> ### When working with a list of elements from a web page. Your have to processes each element in the `About_The_company` list, removing unnecessary text and formatting. \n",
    "\n",
    "> Here's a brief explanation of what your code does:\n",
    ">> **`About_The_company_elements`**:\n",
    ">>> - This list will store the processed text for each element.\n",
    ">>> - You're iterating through each `elem` in the `About_The_company` list.\n",
    ">>> - For each `elem`, you're performing the following replacements:\n",
    ">>>> - Removing the substring \"\\nFollow\" (if present).\n",
    ">>>> - Replacing \".\\n\" with \". \" (to ensure consistent sentence endings).\n",
    ">>>> - Replacing any remaining newline characters (\"\\n\") with periods (\". \").\n",
    "\n",
    "> - Your final `About_The_company_elements` list will contain the cleaned-up text for each element. If you have any further questions or need additional assistance, feel free to ask! 😊"
   ]
  },
  {
   "cell_type": "code",
   "execution_count": 1288,
   "id": "1b07afc4-e681-40bc-9127-9b378c024ab2",
   "metadata": {},
   "outputs": [
    {
     "data": {
      "text/plain": [
       "['PERSOLKELLY. 292,510 followers',\n",
       " 'Human Resources Services 1,001-5,000 employees 3,704 on LinkedIn',\n",
       " 'PERSOLKELLY is one of the largest recruitment companies in Asia Pacific providing comprehensive end-to-end workforce solutions to clients. Headquartered in Singapore, the company was established in 2016 and is a joint venture between Kelly Services, Inc. and affiliates of PERSOL HOLDINGS Co. Ltd. Today, PERSOLKELLY operates more than 45 offices across 13 markets including Australia, China, Hong Kong, India, Indonesia, Korea, Malaysia, New Zealand, Philippines, Singapore, Taiwan, Thailand, and Vietnam. For more information, please visit www.persolkelly.com. …. show more',\n",
       " 'Trending employee content. Previous. Next']"
      ]
     },
     "execution_count": 1288,
     "metadata": {},
     "output_type": "execute_result"
    }
   ],
   "source": [
    "About_The_company_elements"
   ]
  },
  {
   "cell_type": "code",
   "execution_count": 1289,
   "id": "b6d515af-3d28-48ea-aacb-374903a05265",
   "metadata": {},
   "outputs": [],
   "source": [
    "# scrap_dict = dict()"
   ]
  },
  {
   "cell_type": "code",
   "execution_count": 1290,
   "id": "09467faf-368f-456b-a280-e1fa2d29a793",
   "metadata": {},
   "outputs": [],
   "source": [
    "# scrap_dict[\"About_Job\"] = []\n",
    "# scrap_dict[\"Pop_up_skills_elements\"] = []\n",
    "# scrap_dict[\"About_The_company_elements\"] = []\n",
    "# scrap_dict[\"Job_Post_Date_element\"] = []\n",
    "# scrap_dict[\"Job_apply_summarized_details_elements\"] = []\n",
    "# scrap_dict[\"location_Time_Aplicants_element\"] = []\n",
    "# scrap_dict[\"Job_Title_element\"] = []\n",
    "# # scrap_dict[\"About_Job\"] = []"
   ]
  },
  {
   "cell_type": "markdown",
   "id": "b9a0b4a2-f684-46cf-b716-c75a204b1595",
   "metadata": {},
   "source": [
    "___________________________\n",
    "___________________\n",
    "# Final step (export to dataframe)\n",
    "> When working with web scraping data and you need to organizing it into a DataFrame.\n",
    ">_______________________________________________\n",
    "> Let's break down what your code snippet does:\n",
    "> 1. **`scrap_dict`**:\n",
    "> > - This dictionary likely contains different lists, each corresponding to specific information scraped from a web page.\n",
    "> > - You're appending various elements (such as `About_Job`, `Pop_up_skills_elements`, etc.) to their respective lists within `scrap_dict`.\n",
    ">__________________________________________\n",
    "> 2. **Creating a DataFrame**:\n",
    ">> - You're using the `pd.DataFrame` constructor to create a DataFrame from the `scrap_dict`.\n",
    ">> - The resulting DataFrame will have columns corresponding to the keys in `scrap_dict` (e.g., \"About_Job,\" \"Pop_up_skills_elements,\" etc.).\n",
    ">> - Each row will contain the data stored in the corresponding lists.\n",
    "\n",
    "> - Remember to ensure that the lists within `scrap_dict` have consistent lengths (i.e., the same number of elements) to create a valid DataFrame."
   ]
  },
  {
   "cell_type": "code",
   "execution_count": 1291,
   "id": "430299b2-2017-4b49-994b-6b6f4bf0a13d",
   "metadata": {},
   "outputs": [],
   "source": [
    "scrap_dict[\"About_Job\"].append(About_Job)\n",
    "scrap_dict[\"Pop_up_skills_elements\"].append(Pop_up_skills_elements)\n",
    "scrap_dict[\"About_The_company_elements\"].append(About_The_company_elements)\n",
    "scrap_dict[\"Job_Post_Date_element\"].append(Job_Post_Date_element)\n",
    "scrap_dict[\"Job_apply_summarized_details_elements\"].append(Job_apply_summarized_details_elements)\n",
    "scrap_dict[\"location_Time_Aplicants_element\"].append(location_Time_Aplicants_element)\n",
    "scrap_dict[\"Job_Title_element\"].append(Job_Title_element)"
   ]
  },
  {
   "cell_type": "code",
   "execution_count": 1292,
   "id": "4a069c78-3ff4-4ccf-aec1-cbf089effdbf",
   "metadata": {},
   "outputs": [
    {
     "data": {
      "text/html": [
       "<div>\n",
       "<style scoped>\n",
       "    .dataframe tbody tr th:only-of-type {\n",
       "        vertical-align: middle;\n",
       "    }\n",
       "\n",
       "    .dataframe tbody tr th {\n",
       "        vertical-align: top;\n",
       "    }\n",
       "\n",
       "    .dataframe thead th {\n",
       "        text-align: right;\n",
       "    }\n",
       "</style>\n",
       "<table border=\"1\" class=\"dataframe\">\n",
       "  <thead>\n",
       "    <tr style=\"text-align: right;\">\n",
       "      <th></th>\n",
       "      <th>About_Job</th>\n",
       "      <th>Pop_up_skills_elements</th>\n",
       "      <th>About_The_company_elements</th>\n",
       "      <th>Job_Post_Date_element</th>\n",
       "      <th>Job_apply_summarized_details_elements</th>\n",
       "      <th>location_Time_Aplicants_element</th>\n",
       "      <th>Job_Title_element</th>\n",
       "    </tr>\n",
       "  </thead>\n",
       "  <tbody>\n",
       "    <tr>\n",
       "      <th>0</th>\n",
       "      <td>About the job. Aduro Advisors is looking for b...</td>\n",
       "      <td>[Accounts Payable (AP), Bank Statements, Bill....</td>\n",
       "      <td>[Aduro Advisors. 17,977 followers, Financial S...</td>\n",
       "      <td>Posted on Feb 14, 2024.</td>\n",
       "      <td>[$50,000/yr - $65,000/yr Remote Full-time Mid-...</td>\n",
       "      <td>Aduro Advisors · United States · 1 week ago · ...</td>\n",
       "      <td>Management Company Staff Accountant</td>\n",
       "    </tr>\n",
       "    <tr>\n",
       "      <th>1</th>\n",
       "      <td>About the job. A New York City hedge fund is l...</td>\n",
       "      <td>[Account Reconciliation, Accounts Receivable (...</td>\n",
       "      <td>[Tandym Group. 95,849 followers, Staffing and ...</td>\n",
       "      <td>Posted on Feb 14, 2024.</td>\n",
       "      <td>[Hybrid Full-time Entry level, 201-500 employe...</td>\n",
       "      <td>Tandym Group · New York, NY · 1 week ago · 23 ...</td>\n",
       "      <td>Management Company Accountant</td>\n",
       "    </tr>\n",
       "    <tr>\n",
       "      <th>2</th>\n",
       "      <td>About the job. Location: New York, NY, New Yor...</td>\n",
       "      <td>[Account Reconciliation, Attention to Detail, ...</td>\n",
       "      <td>[Atlantic Group. 216,045 followers, Staffing a...</td>\n",
       "      <td>Posted on Jan 12, 2024.</td>\n",
       "      <td>[$100,000/yr - $130,000/yr Full-time Entry lev...</td>\n",
       "      <td>Atlantic Group · New York, NY · 1 month ago · ...</td>\n",
       "      <td>Management Company Accountant</td>\n",
       "    </tr>\n",
       "    <tr>\n",
       "      <th>3</th>\n",
       "      <td>About the job. Project Accountant, PVJ. The Pr...</td>\n",
       "      <td>[Account Reconciliation, Accounting Software, ...</td>\n",
       "      <td>[Bureau Veritas Group. 1,059,432 followers, En...</td>\n",
       "      <td>Posted on Feb 26, 2024.</td>\n",
       "      <td>[Hybrid Full-time Entry level, 10,001+ employe...</td>\n",
       "      <td>Bureau Veritas Group · Lake Zurich, IL · 1 day...</td>\n",
       "      <td>Project Accountant</td>\n",
       "    </tr>\n",
       "    <tr>\n",
       "      <th>4</th>\n",
       "      <td>About the job. The NRP Group is currently seek...</td>\n",
       "      <td>[Budgeting &amp; Forecasting, Communication, Distr...</td>\n",
       "      <td>[The NRP Group LLC. 22,183 followers, Real Est...</td>\n",
       "      <td>Posted on Feb 2, 2024.</td>\n",
       "      <td>[Hybrid Full-time Mid-Senior level, 501-1,000 ...</td>\n",
       "      <td>The NRP Group LLC · Cleveland, OH · Reposted 2...</td>\n",
       "      <td>Senior Management Accountant</td>\n",
       "    </tr>\n",
       "    <tr>\n",
       "      <th>5</th>\n",
       "      <td>About the job. At Cortland, you map the story ...</td>\n",
       "      <td>[Microsoft Excel]</td>\n",
       "      <td>[Cortland. 47,467 followers, Real Estate 1,001...</td>\n",
       "      <td>Posted on Feb 16, 2024.</td>\n",
       "      <td>[$60,000/yr - $70,000/yr + Bonus On-site Full-...</td>\n",
       "      <td>Cortland · Atlanta, GA · 1 week ago · 2 applic...</td>\n",
       "      <td>Asset Management Accountant - Tax Specialist</td>\n",
       "    </tr>\n",
       "    <tr>\n",
       "      <th>6</th>\n",
       "      <td>About the job. Job Summary. Responsible for pr...</td>\n",
       "      <td>[Account Reconciliation, Accounting Standards,...</td>\n",
       "      <td>[White Cap. 41,142 followers, Wholesale Buildi...</td>\n",
       "      <td>Posted on Feb 12, 2024.</td>\n",
       "      <td>[Remote Full-time Associate, 5,001-10,000 empl...</td>\n",
       "      <td>White Cap · Florida, United States · 2 weeks a...</td>\n",
       "      <td>Asset Management Staff Accountant</td>\n",
       "    </tr>\n",
       "    <tr>\n",
       "      <th>7</th>\n",
       "      <td>About the job. Our mission is to provide strat...</td>\n",
       "      <td>[Accounts Receivable (AR), Cash Receipts, Cont...</td>\n",
       "      <td>[Carnegie Mellon University. 286,523 followers...</td>\n",
       "      <td>Posted on Dec 20, 2023.</td>\n",
       "      <td>[On-site Full-time Entry level, 5,001-10,000 e...</td>\n",
       "      <td>Carnegie Mellon University · Pittsburgh, PA · ...</td>\n",
       "      <td>AR/Sponsored Cash Management Accountant – Fina...</td>\n",
       "    </tr>\n",
       "    <tr>\n",
       "      <th>8</th>\n",
       "      <td>About the job. Management Accountant .  . QUAD...</td>\n",
       "      <td>[Budget Preparation, Budgeting, Capital Projec...</td>\n",
       "      <td>[SolomonEdwards. 127,476 followers, Business C...</td>\n",
       "      <td>Posted on Feb 1, 2024.</td>\n",
       "      <td>[Up to $80,000/yr Hybrid Full-time Associate, ...</td>\n",
       "      <td>SolomonEdwards · Reading, PA · 3 weeks ago · 1...</td>\n",
       "      <td>Management Accountant</td>\n",
       "    </tr>\n",
       "    <tr>\n",
       "      <th>9</th>\n",
       "      <td>About the job. Home is the foundation for ever...</td>\n",
       "      <td>[Communication, Depreciation, Escrow, General ...</td>\n",
       "      <td>[CommonBond Communities. 3,930 followers, Non-...</td>\n",
       "      <td>Posted on Feb 2, 2024.</td>\n",
       "      <td>[On-site Full-time Entry level, 201-500 employ...</td>\n",
       "      <td>CommonBond Communities · St Paul, MN · Reposte...</td>\n",
       "      <td>Property Management Accountant 1</td>\n",
       "    </tr>\n",
       "    <tr>\n",
       "      <th>10</th>\n",
       "      <td>About the job. Rapidly growing $80B AUM (as of...</td>\n",
       "      <td>[Accruals, Ad Hoc Analysis, Chartered Institut...</td>\n",
       "      <td>[WhiteCap Search. 38,069 followers, Staffing a...</td>\n",
       "      <td>Posted on Feb 22, 2024.</td>\n",
       "      <td>[$80,000/yr - $90,000/yr Full-time Entry level...</td>\n",
       "      <td>WhiteCap Search · New York, NY · Reposted 4 da...</td>\n",
       "      <td>Management Company Accountant - Analyst</td>\n",
       "    </tr>\n",
       "    <tr>\n",
       "      <th>11</th>\n",
       "      <td>About the job. Real Estate - Property Manageme...</td>\n",
       "      <td>[Accounts Payable &amp; Receivable, Accounts Payab...</td>\n",
       "      <td>[RE/MAX Town &amp; Country - The Ailion Team. 6,63...</td>\n",
       "      <td>Posted on Nov 2, 2023.</td>\n",
       "      <td>[$49,000/yr - $53,000/yr On-site Full-time Ent...</td>\n",
       "      <td>RE/MAX Town &amp; Country - The Ailion Team · Mari...</td>\n",
       "      <td>Property Management Accountant</td>\n",
       "    </tr>\n",
       "    <tr>\n",
       "      <th>12</th>\n",
       "      <td>About the job. Job Description. J.P. Morgan As...</td>\n",
       "      <td>[CCH, Common Reporting Standard (CRS), Income ...</td>\n",
       "      <td>[JPMorgan Chase &amp; Co. 4,800,283 followers, Fin...</td>\n",
       "      <td>Posted on Jan 17, 2024.</td>\n",
       "      <td>[Full-time, 10,001+ employees · Financial Serv...</td>\n",
       "      <td>JPMorgan Chase &amp; Co. · New York, NY · Reposted...</td>\n",
       "      <td>Asset Management – Tax Accountant – Associate</td>\n",
       "    </tr>\n",
       "    <tr>\n",
       "      <th>13</th>\n",
       "      <td>About the job. Job Title: Property Accountant....</td>\n",
       "      <td>[Account Reconciliation, Accounting Software, ...</td>\n",
       "      <td>[CyberCoders. 1,505,498 followers, Staffing an...</td>\n",
       "      <td>Posted on Oct 14, 2023.</td>\n",
       "      <td>[$75,000/yr - $100,000/yr On-site Full-time Mi...</td>\n",
       "      <td>CyberCoders · Los Angeles, CA · Reposted 3 day...</td>\n",
       "      <td>Property Management Accountant - Remote Fridays!</td>\n",
       "    </tr>\n",
       "    <tr>\n",
       "      <th>14</th>\n",
       "      <td>About the job. Want to learn more about this r...</td>\n",
       "      <td>[Client Relations, Coaching, Federal &amp; State R...</td>\n",
       "      <td>[Jobot. 2,441,831 followers, Staffing and Recr...</td>\n",
       "      <td>Posted on Feb 26, 2024.</td>\n",
       "      <td>[$75,000/yr - $115,000/yr On-site Full-time Mi...</td>\n",
       "      <td>Jobot · Wayzata, MN · 17 hours ago · 0 applicants</td>\n",
       "      <td>Wealth Management Senior Tax accountant</td>\n",
       "    </tr>\n",
       "    <tr>\n",
       "      <th>15</th>\n",
       "      <td>About the job. Role Overview. The Project Acco...</td>\n",
       "      <td>[Accounting Software, Accounting Standards, Ba...</td>\n",
       "      <td>[Zeus Fire and Security. 1,591 followers, Secu...</td>\n",
       "      <td>Posted on Feb 26, 2024.</td>\n",
       "      <td>[On-site Full-time Entry level, 11-50 employee...</td>\n",
       "      <td>Zeus Fire and Security · Elk Grove Village, IL...</td>\n",
       "      <td>Project Accountant</td>\n",
       "    </tr>\n",
       "    <tr>\n",
       "      <th>16</th>\n",
       "      <td>About the job. Who are we?. Buyers Edge Platfo...</td>\n",
       "      <td>[Account Reconciliation, Accruals, Balance She...</td>\n",
       "      <td>[Buyers Edge Platform. 13,861 followers, Hospi...</td>\n",
       "      <td>Posted on Feb 5, 2024.</td>\n",
       "      <td>[Hybrid Full-time Entry level, 501-1,000 emplo...</td>\n",
       "      <td>Buyers Edge Platform · Waltham, MA · 3 weeks a...</td>\n",
       "      <td>Expense Spend Management Accountant</td>\n",
       "    </tr>\n",
       "    <tr>\n",
       "      <th>17</th>\n",
       "      <td>About the job. Red Coats Inc. is looking for s...</td>\n",
       "      <td>[Accounting Standards, Accounts Payable (AP), ...</td>\n",
       "      <td>[Red Coats, Inc. 2,399 followers, Facilities S...</td>\n",
       "      <td>Posted on Oct 31, 2023.</td>\n",
       "      <td>[$70,000/yr Hybrid Full-time Entry level, 5,00...</td>\n",
       "      <td>Red Coats, Inc. · Bethesda, MD · 3 months ago ...</td>\n",
       "      <td>Property Management Accountant</td>\n",
       "    </tr>\n",
       "    <tr>\n",
       "      <th>18</th>\n",
       "      <td>About the job. A full service Real Estate Comp...</td>\n",
       "      <td>[Accounts Payable (AP), Accounts Receivable (A...</td>\n",
       "      <td>[Capitol Companies. 369 followers, Real Estate...</td>\n",
       "      <td>Posted on Feb 3, 2024.</td>\n",
       "      <td>[On-site Full-time Entry level, 11-50 employee...</td>\n",
       "      <td>Capitol Companies · Chantilly, VA · 3 weeks ag...</td>\n",
       "      <td>Property Management Accountant</td>\n",
       "    </tr>\n",
       "    <tr>\n",
       "      <th>19</th>\n",
       "      <td>About the job. This job is sourced from a job ...</td>\n",
       "      <td>[Account Reconciliation, Accounting Software, ...</td>\n",
       "      <td>[Cardinal Capital Management Inc. 937 follower...</td>\n",
       "      <td>Posted on Jan 31, 2024.</td>\n",
       "      <td>[On-site Full-time Entry level, 51-200 employe...</td>\n",
       "      <td>Cardinal Capital Management Inc · Milwaukee, W...</td>\n",
       "      <td>Property Management Accountant</td>\n",
       "    </tr>\n",
       "    <tr>\n",
       "      <th>20</th>\n",
       "      <td>About the job. Management Accountant, finalist...</td>\n",
       "      <td>[Accruals, Analytical Skills, Annual Budgeting...</td>\n",
       "      <td>[Abacus Consulting.Co.Uk Ltd. 5,820 followers,...</td>\n",
       "      <td>Posted on Feb 6, 2024.</td>\n",
       "      <td>[On-site Full-time Entry level, 11-50 employee...</td>\n",
       "      <td>Abacus Consulting.Co.Uk Ltd · Bedford, IN · 3 ...</td>\n",
       "      <td>Management Accountant – Bedford</td>\n",
       "    </tr>\n",
       "    <tr>\n",
       "      <th>21</th>\n",
       "      <td>About the job. Page Personnel. The Management ...</td>\n",
       "      <td>[Accounting Standards, Attention to Detail, Bu...</td>\n",
       "      <td>[ACCA Careers. 142,923 followers, Accounting 5...</td>\n",
       "      <td>Posted on Feb 2, 2024.</td>\n",
       "      <td>[$35,000/yr Full-time Entry level, 51-200 empl...</td>\n",
       "      <td>ACCA Careers · Sussex, NJ · 3 weeks ago · 1 ap...</td>\n",
       "      <td>Management Accountant</td>\n",
       "    </tr>\n",
       "    <tr>\n",
       "      <th>22</th>\n",
       "      <td>About the job. Job Description. The Fund Manag...</td>\n",
       "      <td>[Accounting Standards, Advanced Accounting, Co...</td>\n",
       "      <td>[Texas Health and Human Services. 61,646 follo...</td>\n",
       "      <td>Posted on Feb 14, 2024.</td>\n",
       "      <td>[On-site Full-time Mid-Senior level, 10,001+ e...</td>\n",
       "      <td>Texas Health and Human Services · Austin, TX ·...</td>\n",
       "      <td>Fund Management Accountant VI</td>\n",
       "    </tr>\n",
       "    <tr>\n",
       "      <th>23</th>\n",
       "      <td>About the job. Posting Details. Do you have qu...</td>\n",
       "      <td>[Adult Education, Certified Management Account...</td>\n",
       "      <td>[Villanova University. 177,411 followers, High...</td>\n",
       "      <td>Posted on Aug 24, 2023.</td>\n",
       "      <td>[On-site Part-time Mid-Senior level, 1,001-5,0...</td>\n",
       "      <td>Villanova University · Villanova, PA · 6 month...</td>\n",
       "      <td>Adjunct Faculty - Certified Management Account...</td>\n",
       "    </tr>\n",
       "    <tr>\n",
       "      <th>24</th>\n",
       "      <td>About the job. Job Description. We seek a moti...</td>\n",
       "      <td>[Accounting Standards, Accounts Receivable (AR...</td>\n",
       "      <td>[Ledgent. 71,263 followers, Staffing and Recru...</td>\n",
       "      <td>Posted on Feb 9, 2024.</td>\n",
       "      <td>[On-site Full-time Entry level, 201-500 employ...</td>\n",
       "      <td>Ledgent · Bethesda, MD · 2 weeks ago · 0 appli...</td>\n",
       "      <td>Property Management Accountant</td>\n",
       "    </tr>\n",
       "    <tr>\n",
       "      <th>25</th>\n",
       "      <td>About the job. Job Description:. Position Summ...</td>\n",
       "      <td>[Generally Accepted Accounting Principles (GAA...</td>\n",
       "      <td>[System Soft Technologies. 504,813 followers, ...</td>\n",
       "      <td>Posted on Feb 15, 2024.</td>\n",
       "      <td>[On-site Contract Mid-Senior level, 1,001-5,00...</td>\n",
       "      <td>System Soft Technologies · St Thomas, US Virgi...</td>\n",
       "      <td>Management Company Accountant</td>\n",
       "    </tr>\n",
       "    <tr>\n",
       "      <th>26</th>\n",
       "      <td>About the job. Persona is the company top star...</td>\n",
       "      <td>[Accounting, Analytical Skills, Financial Audi...</td>\n",
       "      <td>[Persona. 378,063 followers, Staffing and Recr...</td>\n",
       "      <td>Posted on Feb 26, 2024.</td>\n",
       "      <td>[Remote Full-time Mid-Senior level, 501-1,000 ...</td>\n",
       "      <td>Persona · Latin America · 22 hours ago · Over ...</td>\n",
       "      <td>Senior Accountant (Work From Home)</td>\n",
       "    </tr>\n",
       "    <tr>\n",
       "      <th>27</th>\n",
       "      <td>About the job. Somos uno de los mayores grupos...</td>\n",
       "      <td>[Bookkeeping, Certified Public Accounting, Fin...</td>\n",
       "      <td>[Sovena Group. 54,978 followers, Manufacturing...</td>\n",
       "      <td>Posted on Feb 26, 2024.</td>\n",
       "      <td>[On-site Full-time Entry level, 1,001-5,000 em...</td>\n",
       "      <td>Sovena Group · Pereira, Risaralda, Colombia · ...</td>\n",
       "      <td>Public Accountant</td>\n",
       "    </tr>\n",
       "    <tr>\n",
       "      <th>28</th>\n",
       "      <td>About the job. Integra is a leading petrochemi...</td>\n",
       "      <td>[Accounting, Financial Analysis, Financial Rep...</td>\n",
       "      <td>[Integra. 8,092 followers, Oil and Gas 51-200 ...</td>\n",
       "      <td>Posted on Feb 20, 2024.</td>\n",
       "      <td>[On-site Full-time Associate, 51-200 employees...</td>\n",
       "      <td>Integra · Singapore, Singapore · 6 days ago · ...</td>\n",
       "      <td>Management Accountant</td>\n",
       "    </tr>\n",
       "    <tr>\n",
       "      <th>29</th>\n",
       "      <td>About the job. Job Descriptions:. 1. Handle fu...</td>\n",
       "      <td>[Account Management, Account Reconciliation, A...</td>\n",
       "      <td>[Rongsheng Petrochemical (Singapore) Pte. Ltd....</td>\n",
       "      <td>Posted on Feb 26, 2024.</td>\n",
       "      <td>[On-site Full-time Associate, 11-50 employees ...</td>\n",
       "      <td>Rongsheng Petrochemical (Singapore) Pte. Ltd. ...</td>\n",
       "      <td>Management Accountant</td>\n",
       "    </tr>\n",
       "    <tr>\n",
       "      <th>30</th>\n",
       "      <td>About the job. Shangri-La Rasa Sentosa, Singap...</td>\n",
       "      <td>[Analytical Skills, Balance Sheet Review, Bala...</td>\n",
       "      <td>[Shangri-La Group. 657,769 followers, Hospital...</td>\n",
       "      <td>Posted on Jan 3, 2024.</td>\n",
       "      <td>[On-site Full-time Mid-Senior level, 10,001+ e...</td>\n",
       "      <td>Shangri-La Group · Singapore, Singapore · Repo...</td>\n",
       "      <td>Finance Manager / Chief Accountant</td>\n",
       "    </tr>\n",
       "    <tr>\n",
       "      <th>31</th>\n",
       "      <td>About the job. Join our dynamic team in Singap...</td>\n",
       "      <td>[Communication, Finance, Goods and Services Ta...</td>\n",
       "      <td>[Blue Water Shipping. 47,557 followers, Transp...</td>\n",
       "      <td>Posted on Feb 26, 2024.</td>\n",
       "      <td>[Hybrid Part-time Mid-Senior level, 1,001-5,00...</td>\n",
       "      <td>Blue Water Shipping · Singapore · 23 hours ago...</td>\n",
       "      <td>Accountant</td>\n",
       "    </tr>\n",
       "    <tr>\n",
       "      <th>32</th>\n",
       "      <td>About the job. Company Description. IQ-EQ is a...</td>\n",
       "      <td>[Capital Allowances, Financial Statements, Fun...</td>\n",
       "      <td>[IQ-EQ. 175,504 followers, Financial Services ...</td>\n",
       "      <td>Posted on Feb 26, 2024.</td>\n",
       "      <td>[Hybrid Full-time Mid-Senior level, 5,001-10,0...</td>\n",
       "      <td>IQ-EQ · Singapore, Singapore · 17 hours ago · ...</td>\n",
       "      <td>Fund Accountant (Real Estate)</td>\n",
       "    </tr>\n",
       "    <tr>\n",
       "      <th>33</th>\n",
       "      <td>About the job. Responsibilities : . Knowledge ...</td>\n",
       "      <td>[Auditing, International Financial Reporting S...</td>\n",
       "      <td>[Horangi Cyber Security - a Bitdefender compan...</td>\n",
       "      <td>Posted on Feb 26, 2024.</td>\n",
       "      <td>[Remote Full-time Mid-Senior level, 51-200 emp...</td>\n",
       "      <td>Horangi Cyber Security - a Bitdefender company...</td>\n",
       "      <td>Accountant</td>\n",
       "    </tr>\n",
       "    <tr>\n",
       "      <th>34</th>\n",
       "      <td>About the job. Responsibilities.  Assist in pr...</td>\n",
       "      <td>[Account Reconciliation, Advertising, Bank Rec...</td>\n",
       "      <td>[Novo Recruitment Solutions. 1,156 followers, ...</td>\n",
       "      <td>Posted on Jan 6, 2024.</td>\n",
       "      <td>[On-site Full-time Mid-Senior level, 1-10 empl...</td>\n",
       "      <td>Novo Recruitment Solutions · Singapore, Singap...</td>\n",
       "      <td>Vessel Accountant (Oil Tanker / Ship Management)</td>\n",
       "    </tr>\n",
       "    <tr>\n",
       "      <th>35</th>\n",
       "      <td>About the job. Good career progression|Positiv...</td>\n",
       "      <td>[Accruals, Annual Budgeting, Chartered Institu...</td>\n",
       "      <td>[Michael Page. 3,527,080 followers, Staffing a...</td>\n",
       "      <td>Posted on May 20, 2023.</td>\n",
       "      <td>[On-site Full-time Entry level, 5,001-10,000 e...</td>\n",
       "      <td>Michael Page · Petaling Jaya, Selangor, Malays...</td>\n",
       "      <td>Management Accountant (Manufacturing)(PJ)</td>\n",
       "    </tr>\n",
       "    <tr>\n",
       "      <th>36</th>\n",
       "      <td>About the job. Job Description.  Assist in ove...</td>\n",
       "      <td>[Accruals, Analytical Skills, Budgeting, Cash ...</td>\n",
       "      <td>[PERSOLKELLY. 292,510 followers, Human Resourc...</td>\n",
       "      <td>Posted on Jan 31, 2024.</td>\n",
       "      <td>[On-site Full-time Entry level, 1,001-5,000 em...</td>\n",
       "      <td>PERSOLKELLY · George Town, Penang, Malaysia · ...</td>\n",
       "      <td>Management Accountant</td>\n",
       "    </tr>\n",
       "  </tbody>\n",
       "</table>\n",
       "</div>"
      ],
      "text/plain": [
       "                                            About_Job  \\\n",
       "0   About the job. Aduro Advisors is looking for b...   \n",
       "1   About the job. A New York City hedge fund is l...   \n",
       "2   About the job. Location: New York, NY, New Yor...   \n",
       "3   About the job. Project Accountant, PVJ. The Pr...   \n",
       "4   About the job. The NRP Group is currently seek...   \n",
       "5   About the job. At Cortland, you map the story ...   \n",
       "6   About the job. Job Summary. Responsible for pr...   \n",
       "7   About the job. Our mission is to provide strat...   \n",
       "8   About the job. Management Accountant .  . QUAD...   \n",
       "9   About the job. Home is the foundation for ever...   \n",
       "10  About the job. Rapidly growing $80B AUM (as of...   \n",
       "11  About the job. Real Estate - Property Manageme...   \n",
       "12  About the job. Job Description. J.P. Morgan As...   \n",
       "13  About the job. Job Title: Property Accountant....   \n",
       "14  About the job. Want to learn more about this r...   \n",
       "15  About the job. Role Overview. The Project Acco...   \n",
       "16  About the job. Who are we?. Buyers Edge Platfo...   \n",
       "17  About the job. Red Coats Inc. is looking for s...   \n",
       "18  About the job. A full service Real Estate Comp...   \n",
       "19  About the job. This job is sourced from a job ...   \n",
       "20  About the job. Management Accountant, finalist...   \n",
       "21  About the job. Page Personnel. The Management ...   \n",
       "22  About the job. Job Description. The Fund Manag...   \n",
       "23  About the job. Posting Details. Do you have qu...   \n",
       "24  About the job. Job Description. We seek a moti...   \n",
       "25  About the job. Job Description:. Position Summ...   \n",
       "26  About the job. Persona is the company top star...   \n",
       "27  About the job. Somos uno de los mayores grupos...   \n",
       "28  About the job. Integra is a leading petrochemi...   \n",
       "29  About the job. Job Descriptions:. 1. Handle fu...   \n",
       "30  About the job. Shangri-La Rasa Sentosa, Singap...   \n",
       "31  About the job. Join our dynamic team in Singap...   \n",
       "32  About the job. Company Description. IQ-EQ is a...   \n",
       "33  About the job. Responsibilities : . Knowledge ...   \n",
       "34  About the job. Responsibilities.  Assist in pr...   \n",
       "35  About the job. Good career progression|Positiv...   \n",
       "36  About the job. Job Description.  Assist in ove...   \n",
       "\n",
       "                               Pop_up_skills_elements  \\\n",
       "0   [Accounts Payable (AP), Bank Statements, Bill....   \n",
       "1   [Account Reconciliation, Accounts Receivable (...   \n",
       "2   [Account Reconciliation, Attention to Detail, ...   \n",
       "3   [Account Reconciliation, Accounting Software, ...   \n",
       "4   [Budgeting & Forecasting, Communication, Distr...   \n",
       "5                                   [Microsoft Excel]   \n",
       "6   [Account Reconciliation, Accounting Standards,...   \n",
       "7   [Accounts Receivable (AR), Cash Receipts, Cont...   \n",
       "8   [Budget Preparation, Budgeting, Capital Projec...   \n",
       "9   [Communication, Depreciation, Escrow, General ...   \n",
       "10  [Accruals, Ad Hoc Analysis, Chartered Institut...   \n",
       "11  [Accounts Payable & Receivable, Accounts Payab...   \n",
       "12  [CCH, Common Reporting Standard (CRS), Income ...   \n",
       "13  [Account Reconciliation, Accounting Software, ...   \n",
       "14  [Client Relations, Coaching, Federal & State R...   \n",
       "15  [Accounting Software, Accounting Standards, Ba...   \n",
       "16  [Account Reconciliation, Accruals, Balance She...   \n",
       "17  [Accounting Standards, Accounts Payable (AP), ...   \n",
       "18  [Accounts Payable (AP), Accounts Receivable (A...   \n",
       "19  [Account Reconciliation, Accounting Software, ...   \n",
       "20  [Accruals, Analytical Skills, Annual Budgeting...   \n",
       "21  [Accounting Standards, Attention to Detail, Bu...   \n",
       "22  [Accounting Standards, Advanced Accounting, Co...   \n",
       "23  [Adult Education, Certified Management Account...   \n",
       "24  [Accounting Standards, Accounts Receivable (AR...   \n",
       "25  [Generally Accepted Accounting Principles (GAA...   \n",
       "26  [Accounting, Analytical Skills, Financial Audi...   \n",
       "27  [Bookkeeping, Certified Public Accounting, Fin...   \n",
       "28  [Accounting, Financial Analysis, Financial Rep...   \n",
       "29  [Account Management, Account Reconciliation, A...   \n",
       "30  [Analytical Skills, Balance Sheet Review, Bala...   \n",
       "31  [Communication, Finance, Goods and Services Ta...   \n",
       "32  [Capital Allowances, Financial Statements, Fun...   \n",
       "33  [Auditing, International Financial Reporting S...   \n",
       "34  [Account Reconciliation, Advertising, Bank Rec...   \n",
       "35  [Accruals, Annual Budgeting, Chartered Institu...   \n",
       "36  [Accruals, Analytical Skills, Budgeting, Cash ...   \n",
       "\n",
       "                           About_The_company_elements  \\\n",
       "0   [Aduro Advisors. 17,977 followers, Financial S...   \n",
       "1   [Tandym Group. 95,849 followers, Staffing and ...   \n",
       "2   [Atlantic Group. 216,045 followers, Staffing a...   \n",
       "3   [Bureau Veritas Group. 1,059,432 followers, En...   \n",
       "4   [The NRP Group LLC. 22,183 followers, Real Est...   \n",
       "5   [Cortland. 47,467 followers, Real Estate 1,001...   \n",
       "6   [White Cap. 41,142 followers, Wholesale Buildi...   \n",
       "7   [Carnegie Mellon University. 286,523 followers...   \n",
       "8   [SolomonEdwards. 127,476 followers, Business C...   \n",
       "9   [CommonBond Communities. 3,930 followers, Non-...   \n",
       "10  [WhiteCap Search. 38,069 followers, Staffing a...   \n",
       "11  [RE/MAX Town & Country - The Ailion Team. 6,63...   \n",
       "12  [JPMorgan Chase & Co. 4,800,283 followers, Fin...   \n",
       "13  [CyberCoders. 1,505,498 followers, Staffing an...   \n",
       "14  [Jobot. 2,441,831 followers, Staffing and Recr...   \n",
       "15  [Zeus Fire and Security. 1,591 followers, Secu...   \n",
       "16  [Buyers Edge Platform. 13,861 followers, Hospi...   \n",
       "17  [Red Coats, Inc. 2,399 followers, Facilities S...   \n",
       "18  [Capitol Companies. 369 followers, Real Estate...   \n",
       "19  [Cardinal Capital Management Inc. 937 follower...   \n",
       "20  [Abacus Consulting.Co.Uk Ltd. 5,820 followers,...   \n",
       "21  [ACCA Careers. 142,923 followers, Accounting 5...   \n",
       "22  [Texas Health and Human Services. 61,646 follo...   \n",
       "23  [Villanova University. 177,411 followers, High...   \n",
       "24  [Ledgent. 71,263 followers, Staffing and Recru...   \n",
       "25  [System Soft Technologies. 504,813 followers, ...   \n",
       "26  [Persona. 378,063 followers, Staffing and Recr...   \n",
       "27  [Sovena Group. 54,978 followers, Manufacturing...   \n",
       "28  [Integra. 8,092 followers, Oil and Gas 51-200 ...   \n",
       "29  [Rongsheng Petrochemical (Singapore) Pte. Ltd....   \n",
       "30  [Shangri-La Group. 657,769 followers, Hospital...   \n",
       "31  [Blue Water Shipping. 47,557 followers, Transp...   \n",
       "32  [IQ-EQ. 175,504 followers, Financial Services ...   \n",
       "33  [Horangi Cyber Security - a Bitdefender compan...   \n",
       "34  [Novo Recruitment Solutions. 1,156 followers, ...   \n",
       "35  [Michael Page. 3,527,080 followers, Staffing a...   \n",
       "36  [PERSOLKELLY. 292,510 followers, Human Resourc...   \n",
       "\n",
       "      Job_Post_Date_element  \\\n",
       "0   Posted on Feb 14, 2024.   \n",
       "1   Posted on Feb 14, 2024.   \n",
       "2   Posted on Jan 12, 2024.   \n",
       "3   Posted on Feb 26, 2024.   \n",
       "4    Posted on Feb 2, 2024.   \n",
       "5   Posted on Feb 16, 2024.   \n",
       "6   Posted on Feb 12, 2024.   \n",
       "7   Posted on Dec 20, 2023.   \n",
       "8    Posted on Feb 1, 2024.   \n",
       "9    Posted on Feb 2, 2024.   \n",
       "10  Posted on Feb 22, 2024.   \n",
       "11   Posted on Nov 2, 2023.   \n",
       "12  Posted on Jan 17, 2024.   \n",
       "13  Posted on Oct 14, 2023.   \n",
       "14  Posted on Feb 26, 2024.   \n",
       "15  Posted on Feb 26, 2024.   \n",
       "16   Posted on Feb 5, 2024.   \n",
       "17  Posted on Oct 31, 2023.   \n",
       "18   Posted on Feb 3, 2024.   \n",
       "19  Posted on Jan 31, 2024.   \n",
       "20   Posted on Feb 6, 2024.   \n",
       "21   Posted on Feb 2, 2024.   \n",
       "22  Posted on Feb 14, 2024.   \n",
       "23  Posted on Aug 24, 2023.   \n",
       "24   Posted on Feb 9, 2024.   \n",
       "25  Posted on Feb 15, 2024.   \n",
       "26  Posted on Feb 26, 2024.   \n",
       "27  Posted on Feb 26, 2024.   \n",
       "28  Posted on Feb 20, 2024.   \n",
       "29  Posted on Feb 26, 2024.   \n",
       "30   Posted on Jan 3, 2024.   \n",
       "31  Posted on Feb 26, 2024.   \n",
       "32  Posted on Feb 26, 2024.   \n",
       "33  Posted on Feb 26, 2024.   \n",
       "34   Posted on Jan 6, 2024.   \n",
       "35  Posted on May 20, 2023.   \n",
       "36  Posted on Jan 31, 2024.   \n",
       "\n",
       "                Job_apply_summarized_details_elements  \\\n",
       "0   [$50,000/yr - $65,000/yr Remote Full-time Mid-...   \n",
       "1   [Hybrid Full-time Entry level, 201-500 employe...   \n",
       "2   [$100,000/yr - $130,000/yr Full-time Entry lev...   \n",
       "3   [Hybrid Full-time Entry level, 10,001+ employe...   \n",
       "4   [Hybrid Full-time Mid-Senior level, 501-1,000 ...   \n",
       "5   [$60,000/yr - $70,000/yr + Bonus On-site Full-...   \n",
       "6   [Remote Full-time Associate, 5,001-10,000 empl...   \n",
       "7   [On-site Full-time Entry level, 5,001-10,000 e...   \n",
       "8   [Up to $80,000/yr Hybrid Full-time Associate, ...   \n",
       "9   [On-site Full-time Entry level, 201-500 employ...   \n",
       "10  [$80,000/yr - $90,000/yr Full-time Entry level...   \n",
       "11  [$49,000/yr - $53,000/yr On-site Full-time Ent...   \n",
       "12  [Full-time, 10,001+ employees · Financial Serv...   \n",
       "13  [$75,000/yr - $100,000/yr On-site Full-time Mi...   \n",
       "14  [$75,000/yr - $115,000/yr On-site Full-time Mi...   \n",
       "15  [On-site Full-time Entry level, 11-50 employee...   \n",
       "16  [Hybrid Full-time Entry level, 501-1,000 emplo...   \n",
       "17  [$70,000/yr Hybrid Full-time Entry level, 5,00...   \n",
       "18  [On-site Full-time Entry level, 11-50 employee...   \n",
       "19  [On-site Full-time Entry level, 51-200 employe...   \n",
       "20  [On-site Full-time Entry level, 11-50 employee...   \n",
       "21  [$35,000/yr Full-time Entry level, 51-200 empl...   \n",
       "22  [On-site Full-time Mid-Senior level, 10,001+ e...   \n",
       "23  [On-site Part-time Mid-Senior level, 1,001-5,0...   \n",
       "24  [On-site Full-time Entry level, 201-500 employ...   \n",
       "25  [On-site Contract Mid-Senior level, 1,001-5,00...   \n",
       "26  [Remote Full-time Mid-Senior level, 501-1,000 ...   \n",
       "27  [On-site Full-time Entry level, 1,001-5,000 em...   \n",
       "28  [On-site Full-time Associate, 51-200 employees...   \n",
       "29  [On-site Full-time Associate, 11-50 employees ...   \n",
       "30  [On-site Full-time Mid-Senior level, 10,001+ e...   \n",
       "31  [Hybrid Part-time Mid-Senior level, 1,001-5,00...   \n",
       "32  [Hybrid Full-time Mid-Senior level, 5,001-10,0...   \n",
       "33  [Remote Full-time Mid-Senior level, 51-200 emp...   \n",
       "34  [On-site Full-time Mid-Senior level, 1-10 empl...   \n",
       "35  [On-site Full-time Entry level, 5,001-10,000 e...   \n",
       "36  [On-site Full-time Entry level, 1,001-5,000 em...   \n",
       "\n",
       "                      location_Time_Aplicants_element  \\\n",
       "0   Aduro Advisors · United States · 1 week ago · ...   \n",
       "1   Tandym Group · New York, NY · 1 week ago · 23 ...   \n",
       "2   Atlantic Group · New York, NY · 1 month ago · ...   \n",
       "3   Bureau Veritas Group · Lake Zurich, IL · 1 day...   \n",
       "4   The NRP Group LLC · Cleveland, OH · Reposted 2...   \n",
       "5   Cortland · Atlanta, GA · 1 week ago · 2 applic...   \n",
       "6   White Cap · Florida, United States · 2 weeks a...   \n",
       "7   Carnegie Mellon University · Pittsburgh, PA · ...   \n",
       "8   SolomonEdwards · Reading, PA · 3 weeks ago · 1...   \n",
       "9   CommonBond Communities · St Paul, MN · Reposte...   \n",
       "10  WhiteCap Search · New York, NY · Reposted 4 da...   \n",
       "11  RE/MAX Town & Country - The Ailion Team · Mari...   \n",
       "12  JPMorgan Chase & Co. · New York, NY · Reposted...   \n",
       "13  CyberCoders · Los Angeles, CA · Reposted 3 day...   \n",
       "14  Jobot · Wayzata, MN · 17 hours ago · 0 applicants   \n",
       "15  Zeus Fire and Security · Elk Grove Village, IL...   \n",
       "16  Buyers Edge Platform · Waltham, MA · 3 weeks a...   \n",
       "17  Red Coats, Inc. · Bethesda, MD · 3 months ago ...   \n",
       "18  Capitol Companies · Chantilly, VA · 3 weeks ag...   \n",
       "19  Cardinal Capital Management Inc · Milwaukee, W...   \n",
       "20  Abacus Consulting.Co.Uk Ltd · Bedford, IN · 3 ...   \n",
       "21  ACCA Careers · Sussex, NJ · 3 weeks ago · 1 ap...   \n",
       "22  Texas Health and Human Services · Austin, TX ·...   \n",
       "23  Villanova University · Villanova, PA · 6 month...   \n",
       "24  Ledgent · Bethesda, MD · 2 weeks ago · 0 appli...   \n",
       "25  System Soft Technologies · St Thomas, US Virgi...   \n",
       "26  Persona · Latin America · 22 hours ago · Over ...   \n",
       "27  Sovena Group · Pereira, Risaralda, Colombia · ...   \n",
       "28  Integra · Singapore, Singapore · 6 days ago · ...   \n",
       "29  Rongsheng Petrochemical (Singapore) Pte. Ltd. ...   \n",
       "30  Shangri-La Group · Singapore, Singapore · Repo...   \n",
       "31  Blue Water Shipping · Singapore · 23 hours ago...   \n",
       "32  IQ-EQ · Singapore, Singapore · 17 hours ago · ...   \n",
       "33  Horangi Cyber Security - a Bitdefender company...   \n",
       "34  Novo Recruitment Solutions · Singapore, Singap...   \n",
       "35  Michael Page · Petaling Jaya, Selangor, Malays...   \n",
       "36  PERSOLKELLY · George Town, Penang, Malaysia · ...   \n",
       "\n",
       "                                    Job_Title_element  \n",
       "0                 Management Company Staff Accountant  \n",
       "1                       Management Company Accountant  \n",
       "2                       Management Company Accountant  \n",
       "3                                  Project Accountant  \n",
       "4                        Senior Management Accountant  \n",
       "5        Asset Management Accountant - Tax Specialist  \n",
       "6                   Asset Management Staff Accountant  \n",
       "7   AR/Sponsored Cash Management Accountant – Fina...  \n",
       "8                               Management Accountant  \n",
       "9                    Property Management Accountant 1  \n",
       "10            Management Company Accountant - Analyst  \n",
       "11                     Property Management Accountant  \n",
       "12      Asset Management – Tax Accountant – Associate  \n",
       "13   Property Management Accountant - Remote Fridays!  \n",
       "14            Wealth Management Senior Tax accountant  \n",
       "15                                 Project Accountant  \n",
       "16                Expense Spend Management Accountant  \n",
       "17                     Property Management Accountant  \n",
       "18                     Property Management Accountant  \n",
       "19                     Property Management Accountant  \n",
       "20                    Management Accountant – Bedford  \n",
       "21                              Management Accountant  \n",
       "22                      Fund Management Accountant VI  \n",
       "23  Adjunct Faculty - Certified Management Account...  \n",
       "24                     Property Management Accountant  \n",
       "25                      Management Company Accountant  \n",
       "26                 Senior Accountant (Work From Home)  \n",
       "27                                  Public Accountant  \n",
       "28                              Management Accountant  \n",
       "29                              Management Accountant  \n",
       "30                 Finance Manager / Chief Accountant  \n",
       "31                                         Accountant  \n",
       "32                      Fund Accountant (Real Estate)  \n",
       "33                                         Accountant  \n",
       "34   Vessel Accountant (Oil Tanker / Ship Management)  \n",
       "35          Management Accountant (Manufacturing)(PJ)  \n",
       "36                              Management Accountant  "
      ]
     },
     "execution_count": 1292,
     "metadata": {},
     "output_type": "execute_result"
    }
   ],
   "source": [
    "scraped_df = pd.DataFrame(scrap_dict)\n",
    "scraped_df#.iloc[:-2,:]"
   ]
  },
  {
   "cell_type": "code",
   "execution_count": 1293,
   "id": "d8ff1d6d-795b-4150-bd7c-a999785182a0",
   "metadata": {},
   "outputs": [
    {
     "name": "stdout",
     "output_type": "stream",
     "text": [
      "About the job. Job Description.  Assist in overseeing both accounting and finance functions of the hospital and its subsidiaries.  Prepare management report includes consolidation of group accounts and financial analysis.  Review accounting transactions and ensure accuracy, completeness and timeliness of data and reports.  Assist in budgetary planning, forecasting, monitor and perform variance analysis as required.  Assist in process and system improvement, system enhancement and internal controls implementation.  To liaise with auditor, tax agents, company secretary and government authorities.  Ad hoc tasks as required by the Management from time to time. Requirements.  Possess professional accounting qualification and an active member of MIA or equivalent .  Minimum 5 years’ working experience in handling full set of account and financial reporting.  Exposure in budgetary planning, forecasting, payroll and tax.  Audit experience and familiarity in healthcare or service industry will be an added advantage.  Prefer candidate with good attitude, mature, meticulous, strong sense of responsibility and diligent.  Able to work independently (under minimum supervision) and collaborate with other team in troubleshooting.  Working hours: Monday - Friday 9AM-5:30PM (Working on alternate Saturdays)\n"
     ]
    }
   ],
   "source": [
    "print(scraped_df.iloc[-1,0])"
   ]
  },
  {
   "cell_type": "code",
   "execution_count": 1294,
   "id": "ccd07f80-f5e0-442e-b170-5a0ae9e063d0",
   "metadata": {},
   "outputs": [],
   "source": [
    "scraped_df.to_csv(\"LinkedIn_Job_Scraped_data.csv\",index=False)"
   ]
  },
  {
   "cell_type": "code",
   "execution_count": 1295,
   "id": "d9228da6-7d7e-4d50-b968-d6fc012ec82b",
   "metadata": {},
   "outputs": [],
   "source": [
    "# sraped_df = pd.DataFrame({\"About_Job\":About_Job,\"Pop_up_skills_elements\":Pop_up_skills_elements,\"About_The_company_elements\":About_The_company_elements})"
   ]
  },
  {
   "cell_type": "markdown",
   "id": "d89115c1-f4b3-466c-8b76-bef47c0b118c",
   "metadata": {},
   "source": [
    "# END OF linkedIn Job scraping tutorial"
   ]
  },
  {
   "cell_type": "markdown",
   "id": "846504d4",
   "metadata": {},
   "source": [
    "# ---------------------------- Extracting pdf images------------------"
   ]
  }
 ],
 "metadata": {
  "kernelspec": {
   "display_name": "GPU_Kaveh",
   "language": "python",
   "name": "gpu_kaveh"
  },
  "language_info": {
   "codemirror_mode": {
    "name": "ipython",
    "version": 3
   },
   "file_extension": ".py",
   "mimetype": "text/x-python",
   "name": "python",
   "nbconvert_exporter": "python",
   "pygments_lexer": "ipython3",
   "version": "3.12.2"
  }
 },
 "nbformat": 4,
 "nbformat_minor": 5
}
