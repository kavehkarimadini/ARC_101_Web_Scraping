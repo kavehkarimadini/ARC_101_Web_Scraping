{
 "cells": [
  {
   "cell_type": "code",
   "execution_count": 2,
   "id": "7d67c85d",
   "metadata": {},
   "outputs": [],
   "source": [
    "from selenium import webdriver\n",
    "from selenium.webdriver.chrome.service import Service\n",
    "from selenium.webdriver.common.by import By\n",
    "from selenium.webdriver.chrome.options import Options\n",
    "# from bs4 import BeautifulSoup\n",
    "from selenium.webdriver.chrome.service import Service\n",
    "from selenium.webdriver.common.keys import Keys\n",
    "import requests\n",
    "import csv\n",
    "import time\n",
    "# import imghdr\n",
    "import re\n",
    "import os"
   ]
  },
  {
   "cell_type": "code",
   "execution_count": 51,
   "id": "5a441388",
   "metadata": {},
   "outputs": [
    {
     "ename": "SyntaxError",
     "evalue": "(unicode error) 'unicodeescape' codec can't decode bytes in position 2-3: truncated \\uXXXX escape (3864810924.py, line 1)",
     "output_type": "error",
     "traceback": [
      "\u001b[1;36m  Cell \u001b[1;32mIn[51], line 1\u001b[1;36m\u001b[0m\n\u001b[1;33m    string = \"C:\\user\\Google\\Chrome\\Application\\chrome.exe\"\u001b[0m\n\u001b[1;37m                                                           ^\u001b[0m\n\u001b[1;31mSyntaxError\u001b[0m\u001b[1;31m:\u001b[0m (unicode error) 'unicodeescape' codec can't decode bytes in position 2-3: truncated \\uXXXX escape\n"
     ]
    }
   ],
   "source": [
    "string = \"C:\\user\\Google\\Chrome\\Application\\chrome.exe\""
   ]
  },
  {
   "cell_type": "code",
   "execution_count": 3,
   "id": "5a0e60ff",
   "metadata": {},
   "outputs": [],
   "source": [
    "def save_2_file(name,items):\n",
    "    with open(name, \"a\") as f:\n",
    "        for item in items:\n",
    "            f.write(\"%s\\n\" % item)"
   ]
  },
  {
   "cell_type": "code",
   "execution_count": 4,
   "id": "bf775d69",
   "metadata": {},
   "outputs": [],
   "source": [
    "# Configure Selenium options\n",
    "options = Options()\n",
    "#options.headless = True  # Run in headless mode, without opening a browser window\n",
    "options.add_argument('-v')  # add the version flag\n",
    "options.browser_version= '114.0.5735.110'  # set the version to 69.0\n",
    "options.binary_location = \"C:\\Program Files\\Google\\Chrome\\Application\\chrome.exe\"\n",
    "options.add_argument(r\"user-data-dir=C:\\Users\\kaveh\\AppData\\Local\\Google\\Chrome\\User-Data\\Default\")\n",
    "\n",
    "# Path to your ChromeDriver executable\n",
    "driver_path = 'chromedriver.exe'"
   ]
  },
  {
   "cell_type": "code",
   "execution_count": 5,
   "id": "8ee31568",
   "metadata": {},
   "outputs": [],
   "source": [
    "driver = webdriver.Chrome(service=Service(driver_path), options=options)"
   ]
  },
  {
   "cell_type": "code",
   "execution_count": 178,
   "id": "f8eff937",
   "metadata": {},
   "outputs": [],
   "source": [
    "#get current window handle\n",
    "p = driver.current_window_handle\n",
    "#get first child window\n",
    "chwd = driver.window_handles"
   ]
  },
  {
   "cell_type": "code",
   "execution_count": 179,
   "id": "2e6a5b75",
   "metadata": {},
   "outputs": [
    {
     "data": {
      "text/plain": [
       "['864455623B791550F0FB95D100D9082A', '762F9C9624C62A00EB6AD27526E5B6EA']"
      ]
     },
     "execution_count": 179,
     "metadata": {},
     "output_type": "execute_result"
    }
   ],
   "source": [
    "chwd"
   ]
  },
  {
   "cell_type": "code",
   "execution_count": 180,
   "id": "ee2cdec3",
   "metadata": {},
   "outputs": [],
   "source": [
    "driver.switch_to.window(chwd[1])"
   ]
  },
  {
   "cell_type": "markdown",
   "id": "32d532dd",
   "metadata": {},
   "source": [
    "# ---------------------"
   ]
  },
  {
   "cell_type": "code",
   "execution_count": 98,
   "id": "9d24f326",
   "metadata": {},
   "outputs": [],
   "source": [
    "#//a[@data-attribute-index]\n",
    "urls = driver.find_elements(By.XPATH,'//a[@data-attribute-index]')"
   ]
  },
  {
   "cell_type": "code",
   "execution_count": 99,
   "id": "850d8ba2",
   "metadata": {},
   "outputs": [
    {
     "data": {
      "text/plain": [
       "[<selenium.webdriver.remote.webelement.WebElement (session=\"98e8d5850691b4d3b3a5d89f1cfacaee\", element=\"4D05170C528753027232363636739BB6_element_2012\")>,\n",
       " <selenium.webdriver.remote.webelement.WebElement (session=\"98e8d5850691b4d3b3a5d89f1cfacaee\", element=\"4D05170C528753027232363636739BB6_element_2013\")>,\n",
       " <selenium.webdriver.remote.webelement.WebElement (session=\"98e8d5850691b4d3b3a5d89f1cfacaee\", element=\"4D05170C528753027232363636739BB6_element_2014\")>,\n",
       " <selenium.webdriver.remote.webelement.WebElement (session=\"98e8d5850691b4d3b3a5d89f1cfacaee\", element=\"4D05170C528753027232363636739BB6_element_2015\")>,\n",
       " <selenium.webdriver.remote.webelement.WebElement (session=\"98e8d5850691b4d3b3a5d89f1cfacaee\", element=\"4D05170C528753027232363636739BB6_element_2016\")>,\n",
       " <selenium.webdriver.remote.webelement.WebElement (session=\"98e8d5850691b4d3b3a5d89f1cfacaee\", element=\"4D05170C528753027232363636739BB6_element_2017\")>,\n",
       " <selenium.webdriver.remote.webelement.WebElement (session=\"98e8d5850691b4d3b3a5d89f1cfacaee\", element=\"4D05170C528753027232363636739BB6_element_2018\")>,\n",
       " <selenium.webdriver.remote.webelement.WebElement (session=\"98e8d5850691b4d3b3a5d89f1cfacaee\", element=\"4D05170C528753027232363636739BB6_element_2019\")>,\n",
       " <selenium.webdriver.remote.webelement.WebElement (session=\"98e8d5850691b4d3b3a5d89f1cfacaee\", element=\"4D05170C528753027232363636739BB6_element_2020\")>,\n",
       " <selenium.webdriver.remote.webelement.WebElement (session=\"98e8d5850691b4d3b3a5d89f1cfacaee\", element=\"4D05170C528753027232363636739BB6_element_2021\")>,\n",
       " <selenium.webdriver.remote.webelement.WebElement (session=\"98e8d5850691b4d3b3a5d89f1cfacaee\", element=\"4D05170C528753027232363636739BB6_element_2022\")>,\n",
       " <selenium.webdriver.remote.webelement.WebElement (session=\"98e8d5850691b4d3b3a5d89f1cfacaee\", element=\"4D05170C528753027232363636739BB6_element_2023\")>,\n",
       " <selenium.webdriver.remote.webelement.WebElement (session=\"98e8d5850691b4d3b3a5d89f1cfacaee\", element=\"4D05170C528753027232363636739BB6_element_2024\")>,\n",
       " <selenium.webdriver.remote.webelement.WebElement (session=\"98e8d5850691b4d3b3a5d89f1cfacaee\", element=\"4D05170C528753027232363636739BB6_element_2025\")>,\n",
       " <selenium.webdriver.remote.webelement.WebElement (session=\"98e8d5850691b4d3b3a5d89f1cfacaee\", element=\"4D05170C528753027232363636739BB6_element_2026\")>,\n",
       " <selenium.webdriver.remote.webelement.WebElement (session=\"98e8d5850691b4d3b3a5d89f1cfacaee\", element=\"4D05170C528753027232363636739BB6_element_2027\")>,\n",
       " <selenium.webdriver.remote.webelement.WebElement (session=\"98e8d5850691b4d3b3a5d89f1cfacaee\", element=\"4D05170C528753027232363636739BB6_element_2028\")>,\n",
       " <selenium.webdriver.remote.webelement.WebElement (session=\"98e8d5850691b4d3b3a5d89f1cfacaee\", element=\"4D05170C528753027232363636739BB6_element_2029\")>,\n",
       " <selenium.webdriver.remote.webelement.WebElement (session=\"98e8d5850691b4d3b3a5d89f1cfacaee\", element=\"4D05170C528753027232363636739BB6_element_2030\")>,\n",
       " <selenium.webdriver.remote.webelement.WebElement (session=\"98e8d5850691b4d3b3a5d89f1cfacaee\", element=\"4D05170C528753027232363636739BB6_element_2031\")>,\n",
       " <selenium.webdriver.remote.webelement.WebElement (session=\"98e8d5850691b4d3b3a5d89f1cfacaee\", element=\"4D05170C528753027232363636739BB6_element_2032\")>,\n",
       " <selenium.webdriver.remote.webelement.WebElement (session=\"98e8d5850691b4d3b3a5d89f1cfacaee\", element=\"4D05170C528753027232363636739BB6_element_2033\")>,\n",
       " <selenium.webdriver.remote.webelement.WebElement (session=\"98e8d5850691b4d3b3a5d89f1cfacaee\", element=\"4D05170C528753027232363636739BB6_element_2034\")>,\n",
       " <selenium.webdriver.remote.webelement.WebElement (session=\"98e8d5850691b4d3b3a5d89f1cfacaee\", element=\"4D05170C528753027232363636739BB6_element_2035\")>,\n",
       " <selenium.webdriver.remote.webelement.WebElement (session=\"98e8d5850691b4d3b3a5d89f1cfacaee\", element=\"4D05170C528753027232363636739BB6_element_2036\")>,\n",
       " <selenium.webdriver.remote.webelement.WebElement (session=\"98e8d5850691b4d3b3a5d89f1cfacaee\", element=\"4D05170C528753027232363636739BB6_element_2037\")>,\n",
       " <selenium.webdriver.remote.webelement.WebElement (session=\"98e8d5850691b4d3b3a5d89f1cfacaee\", element=\"4D05170C528753027232363636739BB6_element_2038\")>,\n",
       " <selenium.webdriver.remote.webelement.WebElement (session=\"98e8d5850691b4d3b3a5d89f1cfacaee\", element=\"4D05170C528753027232363636739BB6_element_2039\")>,\n",
       " <selenium.webdriver.remote.webelement.WebElement (session=\"98e8d5850691b4d3b3a5d89f1cfacaee\", element=\"4D05170C528753027232363636739BB6_element_2040\")>,\n",
       " <selenium.webdriver.remote.webelement.WebElement (session=\"98e8d5850691b4d3b3a5d89f1cfacaee\", element=\"4D05170C528753027232363636739BB6_element_2041\")>,\n",
       " <selenium.webdriver.remote.webelement.WebElement (session=\"98e8d5850691b4d3b3a5d89f1cfacaee\", element=\"4D05170C528753027232363636739BB6_element_2042\")>,\n",
       " <selenium.webdriver.remote.webelement.WebElement (session=\"98e8d5850691b4d3b3a5d89f1cfacaee\", element=\"4D05170C528753027232363636739BB6_element_2043\")>,\n",
       " <selenium.webdriver.remote.webelement.WebElement (session=\"98e8d5850691b4d3b3a5d89f1cfacaee\", element=\"4D05170C528753027232363636739BB6_element_2044\")>,\n",
       " <selenium.webdriver.remote.webelement.WebElement (session=\"98e8d5850691b4d3b3a5d89f1cfacaee\", element=\"4D05170C528753027232363636739BB6_element_2045\")>,\n",
       " <selenium.webdriver.remote.webelement.WebElement (session=\"98e8d5850691b4d3b3a5d89f1cfacaee\", element=\"4D05170C528753027232363636739BB6_element_2046\")>,\n",
       " <selenium.webdriver.remote.webelement.WebElement (session=\"98e8d5850691b4d3b3a5d89f1cfacaee\", element=\"4D05170C528753027232363636739BB6_element_2047\")>,\n",
       " <selenium.webdriver.remote.webelement.WebElement (session=\"98e8d5850691b4d3b3a5d89f1cfacaee\", element=\"4D05170C528753027232363636739BB6_element_2048\")>,\n",
       " <selenium.webdriver.remote.webelement.WebElement (session=\"98e8d5850691b4d3b3a5d89f1cfacaee\", element=\"4D05170C528753027232363636739BB6_element_2049\")>,\n",
       " <selenium.webdriver.remote.webelement.WebElement (session=\"98e8d5850691b4d3b3a5d89f1cfacaee\", element=\"4D05170C528753027232363636739BB6_element_2050\")>,\n",
       " <selenium.webdriver.remote.webelement.WebElement (session=\"98e8d5850691b4d3b3a5d89f1cfacaee\", element=\"4D05170C528753027232363636739BB6_element_2051\")>,\n",
       " <selenium.webdriver.remote.webelement.WebElement (session=\"98e8d5850691b4d3b3a5d89f1cfacaee\", element=\"4D05170C528753027232363636739BB6_element_2052\")>,\n",
       " <selenium.webdriver.remote.webelement.WebElement (session=\"98e8d5850691b4d3b3a5d89f1cfacaee\", element=\"4D05170C528753027232363636739BB6_element_2053\")>,\n",
       " <selenium.webdriver.remote.webelement.WebElement (session=\"98e8d5850691b4d3b3a5d89f1cfacaee\", element=\"4D05170C528753027232363636739BB6_element_2054\")>,\n",
       " <selenium.webdriver.remote.webelement.WebElement (session=\"98e8d5850691b4d3b3a5d89f1cfacaee\", element=\"4D05170C528753027232363636739BB6_element_2055\")>,\n",
       " <selenium.webdriver.remote.webelement.WebElement (session=\"98e8d5850691b4d3b3a5d89f1cfacaee\", element=\"4D05170C528753027232363636739BB6_element_2056\")>,\n",
       " <selenium.webdriver.remote.webelement.WebElement (session=\"98e8d5850691b4d3b3a5d89f1cfacaee\", element=\"4D05170C528753027232363636739BB6_element_2057\")>,\n",
       " <selenium.webdriver.remote.webelement.WebElement (session=\"98e8d5850691b4d3b3a5d89f1cfacaee\", element=\"4D05170C528753027232363636739BB6_element_2058\")>,\n",
       " <selenium.webdriver.remote.webelement.WebElement (session=\"98e8d5850691b4d3b3a5d89f1cfacaee\", element=\"4D05170C528753027232363636739BB6_element_2059\")>,\n",
       " <selenium.webdriver.remote.webelement.WebElement (session=\"98e8d5850691b4d3b3a5d89f1cfacaee\", element=\"4D05170C528753027232363636739BB6_element_2060\")>,\n",
       " <selenium.webdriver.remote.webelement.WebElement (session=\"98e8d5850691b4d3b3a5d89f1cfacaee\", element=\"4D05170C528753027232363636739BB6_element_2061\")>,\n",
       " <selenium.webdriver.remote.webelement.WebElement (session=\"98e8d5850691b4d3b3a5d89f1cfacaee\", element=\"4D05170C528753027232363636739BB6_element_2062\")>,\n",
       " <selenium.webdriver.remote.webelement.WebElement (session=\"98e8d5850691b4d3b3a5d89f1cfacaee\", element=\"4D05170C528753027232363636739BB6_element_2063\")>,\n",
       " <selenium.webdriver.remote.webelement.WebElement (session=\"98e8d5850691b4d3b3a5d89f1cfacaee\", element=\"4D05170C528753027232363636739BB6_element_2064\")>,\n",
       " <selenium.webdriver.remote.webelement.WebElement (session=\"98e8d5850691b4d3b3a5d89f1cfacaee\", element=\"4D05170C528753027232363636739BB6_element_2065\")>,\n",
       " <selenium.webdriver.remote.webelement.WebElement (session=\"98e8d5850691b4d3b3a5d89f1cfacaee\", element=\"4D05170C528753027232363636739BB6_element_2066\")>,\n",
       " <selenium.webdriver.remote.webelement.WebElement (session=\"98e8d5850691b4d3b3a5d89f1cfacaee\", element=\"4D05170C528753027232363636739BB6_element_2067\")>,\n",
       " <selenium.webdriver.remote.webelement.WebElement (session=\"98e8d5850691b4d3b3a5d89f1cfacaee\", element=\"4D05170C528753027232363636739BB6_element_2068\")>,\n",
       " <selenium.webdriver.remote.webelement.WebElement (session=\"98e8d5850691b4d3b3a5d89f1cfacaee\", element=\"4D05170C528753027232363636739BB6_element_2069\")>,\n",
       " <selenium.webdriver.remote.webelement.WebElement (session=\"98e8d5850691b4d3b3a5d89f1cfacaee\", element=\"4D05170C528753027232363636739BB6_element_2070\")>,\n",
       " <selenium.webdriver.remote.webelement.WebElement (session=\"98e8d5850691b4d3b3a5d89f1cfacaee\", element=\"4D05170C528753027232363636739BB6_element_2071\")>,\n",
       " <selenium.webdriver.remote.webelement.WebElement (session=\"98e8d5850691b4d3b3a5d89f1cfacaee\", element=\"4D05170C528753027232363636739BB6_element_2072\")>]"
      ]
     },
     "execution_count": 99,
     "metadata": {},
     "output_type": "execute_result"
    }
   ],
   "source": [
    "urls"
   ]
  },
  {
   "cell_type": "code",
   "execution_count": 72,
   "id": "154c11fb",
   "metadata": {},
   "outputs": [],
   "source": [
    "uniq_urls = set()"
   ]
  },
  {
   "cell_type": "code",
   "execution_count": 82,
   "id": "c0d107e1",
   "metadata": {},
   "outputs": [],
   "source": [
    "save_2_file(\"uniq_urls.txt\",uniq_urls)"
   ]
  },
  {
   "cell_type": "code",
   "execution_count": 73,
   "id": "57970ac3",
   "metadata": {},
   "outputs": [],
   "source": [
    "for url in urls:\n",
    "    link = url.get_attribute('href')\n",
    "    #if link.startswith('http'):\n",
    "    uniq_urls.add(link)"
   ]
  },
  {
   "cell_type": "code",
   "execution_count": 76,
   "id": "0d17897d",
   "metadata": {},
   "outputs": [],
   "source": [
    "iterator = iter(uniq_urls)"
   ]
  },
  {
   "cell_type": "code",
   "execution_count": 77,
   "id": "87825eac",
   "metadata": {},
   "outputs": [
    {
     "data": {
      "text/plain": [
       "'https://www.linkedin.com/feed/hashtag/?keywords=risks&highlightedUpdateUrns=urn%3Ali%3Aactivity%3A7088088435944517632'"
      ]
     },
     "execution_count": 77,
     "metadata": {},
     "output_type": "execute_result"
    }
   ],
   "source": [
    "next(iterator)"
   ]
  },
  {
   "cell_type": "code",
   "execution_count": 96,
   "id": "e4c43f42",
   "metadata": {},
   "outputs": [],
   "source": [
    "ul_element = driver.find_elements(By.XPATH,'//div[@class=\"carousel-track-container\"]')"
   ]
  },
  {
   "cell_type": "code",
   "execution_count": 97,
   "id": "7a595eb1",
   "metadata": {},
   "outputs": [
    {
     "data": {
      "text/plain": [
       "[]"
      ]
     },
     "execution_count": 97,
     "metadata": {},
     "output_type": "execute_result"
    }
   ],
   "source": [
    "ul_element"
   ]
  },
  {
   "cell_type": "markdown",
   "id": "846504d4",
   "metadata": {},
   "source": [
    "# ---------------------------- Extracting pdf images------------------"
   ]
  },
  {
   "cell_type": "code",
   "execution_count": 181,
   "id": "1dc0aaa7",
   "metadata": {},
   "outputs": [],
   "source": [
    "#//iframe[contains(@class,\"document\")]\n",
    "iframe = driver.find_element(By.XPATH,'//iframe[contains(@class,\"document\")]')"
   ]
  },
  {
   "cell_type": "code",
   "execution_count": 182,
   "id": "7425eb17",
   "metadata": {},
   "outputs": [],
   "source": [
    "# switch to selected iframe\n",
    "driver.switch_to.frame(iframe)"
   ]
  },
  {
   "cell_type": "code",
   "execution_count": 183,
   "id": "5096572c",
   "metadata": {},
   "outputs": [],
   "source": [
    "#//div[@class=\"carousel-track-container\"]//ul//li//img\n",
    "#//img[contains(@class,\"carousel-lazy-element\")]\n",
    "#get_attribute('data-src')\n",
    "pdf_images_elements = driver.find_elements(By.XPATH,'//img[contains(@class,\"carousel-lazy-element\")]')"
   ]
  },
  {
   "cell_type": "code",
   "execution_count": 184,
   "id": "1073a16c",
   "metadata": {
    "scrolled": true
   },
   "outputs": [
    {
     "data": {
      "text/plain": [
       "[<selenium.webdriver.remote.webelement.WebElement (session=\"2417ef7516ba812b21305d3e29197955\", element=\"B66A4D8FAEF7714BA741631ADD870477_element_15\")>,\n",
       " <selenium.webdriver.remote.webelement.WebElement (session=\"2417ef7516ba812b21305d3e29197955\", element=\"B66A4D8FAEF7714BA741631ADD870477_element_16\")>,\n",
       " <selenium.webdriver.remote.webelement.WebElement (session=\"2417ef7516ba812b21305d3e29197955\", element=\"B66A4D8FAEF7714BA741631ADD870477_element_17\")>,\n",
       " <selenium.webdriver.remote.webelement.WebElement (session=\"2417ef7516ba812b21305d3e29197955\", element=\"B66A4D8FAEF7714BA741631ADD870477_element_18\")>,\n",
       " <selenium.webdriver.remote.webelement.WebElement (session=\"2417ef7516ba812b21305d3e29197955\", element=\"B66A4D8FAEF7714BA741631ADD870477_element_19\")>,\n",
       " <selenium.webdriver.remote.webelement.WebElement (session=\"2417ef7516ba812b21305d3e29197955\", element=\"B66A4D8FAEF7714BA741631ADD870477_element_20\")>,\n",
       " <selenium.webdriver.remote.webelement.WebElement (session=\"2417ef7516ba812b21305d3e29197955\", element=\"B66A4D8FAEF7714BA741631ADD870477_element_21\")>,\n",
       " <selenium.webdriver.remote.webelement.WebElement (session=\"2417ef7516ba812b21305d3e29197955\", element=\"B66A4D8FAEF7714BA741631ADD870477_element_22\")>,\n",
       " <selenium.webdriver.remote.webelement.WebElement (session=\"2417ef7516ba812b21305d3e29197955\", element=\"B66A4D8FAEF7714BA741631ADD870477_element_23\")>,\n",
       " <selenium.webdriver.remote.webelement.WebElement (session=\"2417ef7516ba812b21305d3e29197955\", element=\"B66A4D8FAEF7714BA741631ADD870477_element_24\")>,\n",
       " <selenium.webdriver.remote.webelement.WebElement (session=\"2417ef7516ba812b21305d3e29197955\", element=\"B66A4D8FAEF7714BA741631ADD870477_element_25\")>,\n",
       " <selenium.webdriver.remote.webelement.WebElement (session=\"2417ef7516ba812b21305d3e29197955\", element=\"B66A4D8FAEF7714BA741631ADD870477_element_26\")>,\n",
       " <selenium.webdriver.remote.webelement.WebElement (session=\"2417ef7516ba812b21305d3e29197955\", element=\"B66A4D8FAEF7714BA741631ADD870477_element_27\")>,\n",
       " <selenium.webdriver.remote.webelement.WebElement (session=\"2417ef7516ba812b21305d3e29197955\", element=\"B66A4D8FAEF7714BA741631ADD870477_element_28\")>,\n",
       " <selenium.webdriver.remote.webelement.WebElement (session=\"2417ef7516ba812b21305d3e29197955\", element=\"B66A4D8FAEF7714BA741631ADD870477_element_29\")>,\n",
       " <selenium.webdriver.remote.webelement.WebElement (session=\"2417ef7516ba812b21305d3e29197955\", element=\"B66A4D8FAEF7714BA741631ADD870477_element_30\")>,\n",
       " <selenium.webdriver.remote.webelement.WebElement (session=\"2417ef7516ba812b21305d3e29197955\", element=\"B66A4D8FAEF7714BA741631ADD870477_element_31\")>,\n",
       " <selenium.webdriver.remote.webelement.WebElement (session=\"2417ef7516ba812b21305d3e29197955\", element=\"B66A4D8FAEF7714BA741631ADD870477_element_32\")>,\n",
       " <selenium.webdriver.remote.webelement.WebElement (session=\"2417ef7516ba812b21305d3e29197955\", element=\"B66A4D8FAEF7714BA741631ADD870477_element_33\")>,\n",
       " <selenium.webdriver.remote.webelement.WebElement (session=\"2417ef7516ba812b21305d3e29197955\", element=\"B66A4D8FAEF7714BA741631ADD870477_element_34\")>,\n",
       " <selenium.webdriver.remote.webelement.WebElement (session=\"2417ef7516ba812b21305d3e29197955\", element=\"B66A4D8FAEF7714BA741631ADD870477_element_35\")>,\n",
       " <selenium.webdriver.remote.webelement.WebElement (session=\"2417ef7516ba812b21305d3e29197955\", element=\"B66A4D8FAEF7714BA741631ADD870477_element_36\")>,\n",
       " <selenium.webdriver.remote.webelement.WebElement (session=\"2417ef7516ba812b21305d3e29197955\", element=\"B66A4D8FAEF7714BA741631ADD870477_element_37\")>,\n",
       " <selenium.webdriver.remote.webelement.WebElement (session=\"2417ef7516ba812b21305d3e29197955\", element=\"B66A4D8FAEF7714BA741631ADD870477_element_38\")>,\n",
       " <selenium.webdriver.remote.webelement.WebElement (session=\"2417ef7516ba812b21305d3e29197955\", element=\"B66A4D8FAEF7714BA741631ADD870477_element_39\")>,\n",
       " <selenium.webdriver.remote.webelement.WebElement (session=\"2417ef7516ba812b21305d3e29197955\", element=\"B66A4D8FAEF7714BA741631ADD870477_element_40\")>,\n",
       " <selenium.webdriver.remote.webelement.WebElement (session=\"2417ef7516ba812b21305d3e29197955\", element=\"B66A4D8FAEF7714BA741631ADD870477_element_41\")>,\n",
       " <selenium.webdriver.remote.webelement.WebElement (session=\"2417ef7516ba812b21305d3e29197955\", element=\"B66A4D8FAEF7714BA741631ADD870477_element_42\")>,\n",
       " <selenium.webdriver.remote.webelement.WebElement (session=\"2417ef7516ba812b21305d3e29197955\", element=\"B66A4D8FAEF7714BA741631ADD870477_element_43\")>,\n",
       " <selenium.webdriver.remote.webelement.WebElement (session=\"2417ef7516ba812b21305d3e29197955\", element=\"B66A4D8FAEF7714BA741631ADD870477_element_44\")>,\n",
       " <selenium.webdriver.remote.webelement.WebElement (session=\"2417ef7516ba812b21305d3e29197955\", element=\"B66A4D8FAEF7714BA741631ADD870477_element_45\")>,\n",
       " <selenium.webdriver.remote.webelement.WebElement (session=\"2417ef7516ba812b21305d3e29197955\", element=\"B66A4D8FAEF7714BA741631ADD870477_element_46\")>,\n",
       " <selenium.webdriver.remote.webelement.WebElement (session=\"2417ef7516ba812b21305d3e29197955\", element=\"B66A4D8FAEF7714BA741631ADD870477_element_47\")>,\n",
       " <selenium.webdriver.remote.webelement.WebElement (session=\"2417ef7516ba812b21305d3e29197955\", element=\"B66A4D8FAEF7714BA741631ADD870477_element_48\")>]"
      ]
     },
     "execution_count": 184,
     "metadata": {},
     "output_type": "execute_result"
    }
   ],
   "source": [
    "pdf_images_elements"
   ]
  },
  {
   "cell_type": "code",
   "execution_count": 185,
   "id": "20108069",
   "metadata": {},
   "outputs": [],
   "source": [
    "pdf_images_elements_urls = []\n",
    "for elem in pdf_images_elements:\n",
    "    url = elem.get_attribute('data-src')\n",
    "    pdf_images_elements_urls.append(url)"
   ]
  },
  {
   "cell_type": "code",
   "execution_count": 186,
   "id": "56d52a58",
   "metadata": {},
   "outputs": [
    {
     "data": {
      "text/plain": [
       "34"
      ]
     },
     "execution_count": 186,
     "metadata": {},
     "output_type": "execute_result"
    }
   ],
   "source": [
    "len(pdf_images_elements_urls)"
   ]
  },
  {
   "cell_type": "code",
   "execution_count": 187,
   "id": "e918e622",
   "metadata": {},
   "outputs": [],
   "source": [
    "save_2_file(\"pdf_images_elements_urls_Corruption Perceptions Index 2020.txt\",pdf_images_elements_urls)"
   ]
  },
  {
   "cell_type": "code",
   "execution_count": 188,
   "id": "5e22b77e",
   "metadata": {},
   "outputs": [],
   "source": [
    "# Open the file in read mode\n",
    "with open('pdf_images_elements_urls_Corruption Perceptions Index 2020.txt', 'r') as file:\n",
    "    # Read all the lines of the file into a list\n",
    "    pretty_images_urls = file.readlines()"
   ]
  },
  {
   "cell_type": "code",
   "execution_count": 189,
   "id": "31d1075c",
   "metadata": {},
   "outputs": [],
   "source": [
    "for i in range(len(pretty_images_urls)):\n",
    "    pretty_images_urls[i] = pretty_images_urls[i].replace('\\n','')"
   ]
  },
  {
   "cell_type": "code",
   "execution_count": 190,
   "id": "1b5081a4",
   "metadata": {},
   "outputs": [
    {
     "data": {
      "text/plain": [
       "'https://media.licdn.com/dms/image/C4D1FAQFuRIuVBpaB_A/feedshare-document-images_800/7/1612719817673?e=1691625600&v=beta&t=D1AYbUPLrNWEO64sl5VM3auOtE_Nra_Io1S6P8v2zoQ'"
      ]
     },
     "execution_count": 190,
     "metadata": {},
     "output_type": "execute_result"
    }
   ],
   "source": [
    "pretty_images_urls[6]"
   ]
  },
  {
   "cell_type": "code",
   "execution_count": 191,
   "id": "e33a80d4",
   "metadata": {},
   "outputs": [
    {
     "name": "stdout",
     "output_type": "stream",
     "text": [
      "png\n",
      "image/png\n"
     ]
    }
   ],
   "source": [
    "# Send a HEAD request to retrieve only the headers\n",
    "response = requests.get(pretty_images_urls[0])\n",
    "# Determine the format of the image using the imghdr module\n",
    "image_format = imghdr.what(None, response.content)\n",
    "\n",
    "# Print the image format\n",
    "print(image_format)\n",
    "print(response.headers['content-type'])"
   ]
  },
  {
   "cell_type": "code",
   "execution_count": 192,
   "id": "97e3861c",
   "metadata": {},
   "outputs": [
    {
     "name": "stdout",
     "output_type": "stream",
     "text": [
      "1\n",
      "2\n",
      "3\n",
      "4\n",
      "5\n",
      "6\n",
      "7\n",
      "8\n",
      "9\n",
      "10\n",
      "11\n",
      "12\n",
      "13\n",
      "14\n",
      "15\n",
      "16\n",
      "17\n",
      "18\n",
      "19\n",
      "20\n",
      "21\n",
      "22\n",
      "23\n",
      "24\n",
      "25\n",
      "26\n",
      "27\n",
      "28\n",
      "29\n",
      "30\n",
      "31\n",
      "32\n",
      "33\n",
      "34\n"
     ]
    }
   ],
   "source": [
    "i = 0\n",
    "for url in pretty_images_urls:\n",
    "    try:\n",
    "        response = requests.get(url)\n",
    "        file = open(\"Corruption_Perceptions_Index_2020{}.jpeg\".format(i), \"wb\")\n",
    "        file.write(response.content)\n",
    "        file.close()\n",
    "    except Exception as e:\n",
    "        print('An error occurred: {}'.format(str(e)))\n",
    "    i = i + 1\n",
    "    print(i)"
   ]
  },
  {
   "cell_type": "code",
   "execution_count": null,
   "id": "cfbbf245",
   "metadata": {},
   "outputs": [],
   "source": [
    "save_2_file(\"pdf_images_elements_urls.txt\",uniq_urls)"
   ]
  },
  {
   "cell_type": "code",
   "execution_count": 20,
   "id": "091261d3",
   "metadata": {},
   "outputs": [],
   "source": [
    "driver.maximize_window()"
   ]
  },
  {
   "cell_type": "code",
   "execution_count": 21,
   "id": "1d5ee6e9",
   "metadata": {},
   "outputs": [],
   "source": [
    "driver.get(\"https://www.linkedin.com/login?fromSignIn=true&trk=guest_homepage-basic_nav-header-signin\")"
   ]
  },
  {
   "cell_type": "code",
   "execution_count": 22,
   "id": "23e85dd6",
   "metadata": {},
   "outputs": [],
   "source": [
    "#//input[@id=\"username\"]\n",
    "username = driver.find_element(By.XPATH,'//input[@id=\"username\"]')"
   ]
  },
  {
   "cell_type": "code",
   "execution_count": 23,
   "id": "54e8b6bb",
   "metadata": {},
   "outputs": [
    {
     "data": {
      "text/plain": [
       "<selenium.webdriver.remote.webelement.WebElement (session=\"d68b5b19b5507d2a4478c4b8cc794881\", element=\"6CEE17B33755C8DA105BB634D28723D9_element_2\")>"
      ]
     },
     "execution_count": 23,
     "metadata": {},
     "output_type": "execute_result"
    }
   ],
   "source": [
    "username"
   ]
  },
  {
   "cell_type": "code",
   "execution_count": 24,
   "id": "afda6125",
   "metadata": {},
   "outputs": [],
   "source": [
    "username.send_keys(\"atefehdavariii@gmail.com\")"
   ]
  },
  {
   "cell_type": "code",
   "execution_count": 25,
   "id": "6817a140",
   "metadata": {},
   "outputs": [],
   "source": [
    "#//input[@id=\"password\"]\n",
    "password = driver.find_element(By.XPATH,'//input[@id=\"password\"]')"
   ]
  },
  {
   "cell_type": "code",
   "execution_count": 26,
   "id": "8b46a0cd",
   "metadata": {},
   "outputs": [],
   "source": [
    "password.send_keys(\"Laros12346789#\")"
   ]
  },
  {
   "cell_type": "code",
   "execution_count": 27,
   "id": "27611a42",
   "metadata": {},
   "outputs": [],
   "source": [
    "#//button[@type=\"submit\"]\n",
    "submit_button = driver.find_element(By.XPATH,'//button[@type=\"submit\"]')"
   ]
  },
  {
   "cell_type": "code",
   "execution_count": 28,
   "id": "be615508",
   "metadata": {},
   "outputs": [],
   "source": [
    "submit_button.click()"
   ]
  },
  {
   "cell_type": "code",
   "execution_count": 16,
   "id": "dcd064c2",
   "metadata": {},
   "outputs": [],
   "source": [
    "#//button[text()=\"Skip\"]\n",
    "skip_button = driver.find_element(By.XPATH,'//button[text()=\"Skip\"]')"
   ]
  },
  {
   "cell_type": "code",
   "execution_count": 17,
   "id": "d2572d22",
   "metadata": {},
   "outputs": [],
   "source": [
    "skip_button.click()"
   ]
  },
  {
   "cell_type": "code",
   "execution_count": 22,
   "id": "c95c89d4",
   "metadata": {},
   "outputs": [],
   "source": [
    "# locating username and password inputs and sending text to the inputs\n",
    "# username\n",
    "# //input[@name =\"email-or-phone\"]\n",
    "username = driver.find_element(By.XPATH,'//input[@name =\"email-or-phone\"]')"
   ]
  },
  {
   "cell_type": "code",
   "execution_count": 23,
   "id": "c027159b",
   "metadata": {},
   "outputs": [
    {
     "data": {
      "text/plain": [
       "<selenium.webdriver.remote.webelement.WebElement (session=\"84329ad0b5775029d081a7756cf5e98a\", element=\"75FA842E585CBE2C0C2782671AB21DC8_element_1\")>"
      ]
     },
     "execution_count": 23,
     "metadata": {},
     "output_type": "execute_result"
    }
   ],
   "source": [
    "username"
   ]
  },
  {
   "cell_type": "code",
   "execution_count": 10,
   "id": "3be42572",
   "metadata": {},
   "outputs": [],
   "source": [
    "username.send_keys(\"kavehkarimodini@gmail.com\")"
   ]
  },
  {
   "cell_type": "code",
   "execution_count": 11,
   "id": "9631f38f",
   "metadata": {},
   "outputs": [],
   "source": [
    "# //input[@name =\"password\"]\n",
    "password = driver.find_element(By.XPATH,'//input[@name =\"password\"]')"
   ]
  },
  {
   "cell_type": "code",
   "execution_count": 12,
   "id": "7f8d53e6",
   "metadata": {},
   "outputs": [],
   "source": [
    "#password.send_keys(\"kavehkarimodini@gmail.com\")"
   ]
  },
  {
   "cell_type": "code",
   "execution_count": 30,
   "id": "14bd311a",
   "metadata": {
    "collapsed": true,
    "jupyter": {
     "outputs_hidden": true
    }
   },
   "outputs": [
    {
     "ename": "NoSuchElementException",
     "evalue": "Message: no such element: Unable to locate element: {\"method\":\"xpath\",\"selector\":\"//div[@role=\"button\"]\"}\n  (Session info: chrome=115.0.5790.110); For documentation on this error, please visit: https://www.selenium.dev/documentation/webdriver/troubleshooting/errors#no-such-element-exception\nStacktrace:\nBacktrace:\n\tGetHandleVerifier [0x00C6A813+48355]\n\t(No symbol) [0x00BFC4B1]\n\t(No symbol) [0x00B05358]\n\t(No symbol) [0x00B309A5]\n\t(No symbol) [0x00B30B3B]\n\t(No symbol) [0x00B5E232]\n\t(No symbol) [0x00B4A784]\n\t(No symbol) [0x00B5C922]\n\t(No symbol) [0x00B4A536]\n\t(No symbol) [0x00B282DC]\n\t(No symbol) [0x00B293DD]\n\tGetHandleVerifier [0x00ECAABD+2539405]\n\tGetHandleVerifier [0x00F0A78F+2800735]\n\tGetHandleVerifier [0x00F0456C+2775612]\n\tGetHandleVerifier [0x00CF51E0+616112]\n\t(No symbol) [0x00C05F8C]\n\t(No symbol) [0x00C02328]\n\t(No symbol) [0x00C0240B]\n\t(No symbol) [0x00BF4FF7]\n\tBaseThreadInitThunk [0x772900C9+25]\n\tRtlGetAppContainerNamedObjectPath [0x779E7B1E+286]\n\tRtlGetAppContainerNamedObjectPath [0x779E7AEE+238]\n",
     "output_type": "error",
     "traceback": [
      "\u001b[1;31m---------------------------------------------------------------------------\u001b[0m",
      "\u001b[1;31mNoSuchElementException\u001b[0m                    Traceback (most recent call last)",
      "Cell \u001b[1;32mIn[30], line 4\u001b[0m\n\u001b[0;32m      1\u001b[0m \u001b[38;5;66;03m#//div[@role=\"button\"]//span[text()=\"Continue with Google\"]\u001b[39;00m\n\u001b[0;32m      2\u001b[0m \u001b[38;5;66;03m#//div[@role=\"button\"]//span[text()=\"Continue with Google\"][1]\u001b[39;00m\n\u001b[0;32m      3\u001b[0m \u001b[38;5;66;03m#//div[@role=\"button\"]//div//span[@id=\"button-label\"]\u001b[39;00m\n\u001b[1;32m----> 4\u001b[0m google_btn  \u001b[38;5;241m=\u001b[39m \u001b[43mdriver\u001b[49m\u001b[38;5;241;43m.\u001b[39;49m\u001b[43mfind_element\u001b[49m\u001b[43m(\u001b[49m\u001b[43mBy\u001b[49m\u001b[38;5;241;43m.\u001b[39;49m\u001b[43mXPATH\u001b[49m\u001b[43m,\u001b[49m\u001b[38;5;124;43m'\u001b[39;49m\u001b[38;5;124;43m//div[@role=\u001b[39;49m\u001b[38;5;124;43m\"\u001b[39;49m\u001b[38;5;124;43mbutton\u001b[39;49m\u001b[38;5;124;43m\"\u001b[39;49m\u001b[38;5;124;43m]\u001b[39;49m\u001b[38;5;124;43m'\u001b[39;49m\u001b[43m)\u001b[49m\n",
      "File \u001b[1;32m~\\AppData\\Local\\anaconda3\\envs\\100days\\lib\\site-packages\\selenium\\webdriver\\remote\\webdriver.py:740\u001b[0m, in \u001b[0;36mWebDriver.find_element\u001b[1;34m(self, by, value)\u001b[0m\n\u001b[0;32m    737\u001b[0m     by \u001b[38;5;241m=\u001b[39m By\u001b[38;5;241m.\u001b[39mCSS_SELECTOR\n\u001b[0;32m    738\u001b[0m     value \u001b[38;5;241m=\u001b[39m \u001b[38;5;124mf\u001b[39m\u001b[38;5;124m'\u001b[39m\u001b[38;5;124m[name=\u001b[39m\u001b[38;5;124m\"\u001b[39m\u001b[38;5;132;01m{\u001b[39;00mvalue\u001b[38;5;132;01m}\u001b[39;00m\u001b[38;5;124m\"\u001b[39m\u001b[38;5;124m]\u001b[39m\u001b[38;5;124m'\u001b[39m\n\u001b[1;32m--> 740\u001b[0m \u001b[38;5;28;01mreturn\u001b[39;00m \u001b[38;5;28;43mself\u001b[39;49m\u001b[38;5;241;43m.\u001b[39;49m\u001b[43mexecute\u001b[49m\u001b[43m(\u001b[49m\u001b[43mCommand\u001b[49m\u001b[38;5;241;43m.\u001b[39;49m\u001b[43mFIND_ELEMENT\u001b[49m\u001b[43m,\u001b[49m\u001b[43m \u001b[49m\u001b[43m{\u001b[49m\u001b[38;5;124;43m\"\u001b[39;49m\u001b[38;5;124;43musing\u001b[39;49m\u001b[38;5;124;43m\"\u001b[39;49m\u001b[43m:\u001b[49m\u001b[43m \u001b[49m\u001b[43mby\u001b[49m\u001b[43m,\u001b[49m\u001b[43m \u001b[49m\u001b[38;5;124;43m\"\u001b[39;49m\u001b[38;5;124;43mvalue\u001b[39;49m\u001b[38;5;124;43m\"\u001b[39;49m\u001b[43m:\u001b[49m\u001b[43m \u001b[49m\u001b[43mvalue\u001b[49m\u001b[43m}\u001b[49m\u001b[43m)\u001b[49m[\u001b[38;5;124m\"\u001b[39m\u001b[38;5;124mvalue\u001b[39m\u001b[38;5;124m\"\u001b[39m]\n",
      "File \u001b[1;32m~\\AppData\\Local\\anaconda3\\envs\\100days\\lib\\site-packages\\selenium\\webdriver\\remote\\webdriver.py:346\u001b[0m, in \u001b[0;36mWebDriver.execute\u001b[1;34m(self, driver_command, params)\u001b[0m\n\u001b[0;32m    344\u001b[0m response \u001b[38;5;241m=\u001b[39m \u001b[38;5;28mself\u001b[39m\u001b[38;5;241m.\u001b[39mcommand_executor\u001b[38;5;241m.\u001b[39mexecute(driver_command, params)\n\u001b[0;32m    345\u001b[0m \u001b[38;5;28;01mif\u001b[39;00m response:\n\u001b[1;32m--> 346\u001b[0m     \u001b[38;5;28;43mself\u001b[39;49m\u001b[38;5;241;43m.\u001b[39;49m\u001b[43merror_handler\u001b[49m\u001b[38;5;241;43m.\u001b[39;49m\u001b[43mcheck_response\u001b[49m\u001b[43m(\u001b[49m\u001b[43mresponse\u001b[49m\u001b[43m)\u001b[49m\n\u001b[0;32m    347\u001b[0m     response[\u001b[38;5;124m\"\u001b[39m\u001b[38;5;124mvalue\u001b[39m\u001b[38;5;124m\"\u001b[39m] \u001b[38;5;241m=\u001b[39m \u001b[38;5;28mself\u001b[39m\u001b[38;5;241m.\u001b[39m_unwrap_value(response\u001b[38;5;241m.\u001b[39mget(\u001b[38;5;124m\"\u001b[39m\u001b[38;5;124mvalue\u001b[39m\u001b[38;5;124m\"\u001b[39m, \u001b[38;5;28;01mNone\u001b[39;00m))\n\u001b[0;32m    348\u001b[0m     \u001b[38;5;28;01mreturn\u001b[39;00m response\n",
      "File \u001b[1;32m~\\AppData\\Local\\anaconda3\\envs\\100days\\lib\\site-packages\\selenium\\webdriver\\remote\\errorhandler.py:245\u001b[0m, in \u001b[0;36mErrorHandler.check_response\u001b[1;34m(self, response)\u001b[0m\n\u001b[0;32m    243\u001b[0m         alert_text \u001b[38;5;241m=\u001b[39m value[\u001b[38;5;124m\"\u001b[39m\u001b[38;5;124malert\u001b[39m\u001b[38;5;124m\"\u001b[39m]\u001b[38;5;241m.\u001b[39mget(\u001b[38;5;124m\"\u001b[39m\u001b[38;5;124mtext\u001b[39m\u001b[38;5;124m\"\u001b[39m)\n\u001b[0;32m    244\u001b[0m     \u001b[38;5;28;01mraise\u001b[39;00m exception_class(message, screen, stacktrace, alert_text)  \u001b[38;5;66;03m# type: ignore[call-arg]  # mypy is not smart enough here\u001b[39;00m\n\u001b[1;32m--> 245\u001b[0m \u001b[38;5;28;01mraise\u001b[39;00m exception_class(message, screen, stacktrace)\n",
      "\u001b[1;31mNoSuchElementException\u001b[0m: Message: no such element: Unable to locate element: {\"method\":\"xpath\",\"selector\":\"//div[@role=\"button\"]\"}\n  (Session info: chrome=115.0.5790.110); For documentation on this error, please visit: https://www.selenium.dev/documentation/webdriver/troubleshooting/errors#no-such-element-exception\nStacktrace:\nBacktrace:\n\tGetHandleVerifier [0x00C6A813+48355]\n\t(No symbol) [0x00BFC4B1]\n\t(No symbol) [0x00B05358]\n\t(No symbol) [0x00B309A5]\n\t(No symbol) [0x00B30B3B]\n\t(No symbol) [0x00B5E232]\n\t(No symbol) [0x00B4A784]\n\t(No symbol) [0x00B5C922]\n\t(No symbol) [0x00B4A536]\n\t(No symbol) [0x00B282DC]\n\t(No symbol) [0x00B293DD]\n\tGetHandleVerifier [0x00ECAABD+2539405]\n\tGetHandleVerifier [0x00F0A78F+2800735]\n\tGetHandleVerifier [0x00F0456C+2775612]\n\tGetHandleVerifier [0x00CF51E0+616112]\n\t(No symbol) [0x00C05F8C]\n\t(No symbol) [0x00C02328]\n\t(No symbol) [0x00C0240B]\n\t(No symbol) [0x00BF4FF7]\n\tBaseThreadInitThunk [0x772900C9+25]\n\tRtlGetAppContainerNamedObjectPath [0x779E7B1E+286]\n\tRtlGetAppContainerNamedObjectPath [0x779E7AEE+238]\n"
     ]
    }
   ],
   "source": [
    "#//div[@role=\"button\"]//span[text()=\"Continue with Google\"]\n",
    "#//div[@role=\"button\"]//span[text()=\"Continue with Google\"][1]\n",
    "#//div[@role=\"button\"]//div//span[@id=\"button-label\"]\n",
    "google_btn  = driver.find_element(By.XPATH,'//div[@role=\"button\"]')"
   ]
  },
  {
   "cell_type": "code",
   "execution_count": 31,
   "id": "08098662",
   "metadata": {},
   "outputs": [
    {
     "data": {
      "text/plain": [
       "[]"
      ]
     },
     "execution_count": 31,
     "metadata": {},
     "output_type": "execute_result"
    }
   ],
   "source": [
    "google_btn"
   ]
  },
  {
   "cell_type": "code",
   "execution_count": null,
   "id": "74e53b67",
   "metadata": {},
   "outputs": [],
   "source": []
  }
 ],
 "metadata": {
  "kernelspec": {
   "display_name": "Python 3 (ipykernel)",
   "language": "python",
   "name": "python3"
  },
  "language_info": {
   "codemirror_mode": {
    "name": "ipython",
    "version": 3
   },
   "file_extension": ".py",
   "mimetype": "text/x-python",
   "name": "python",
   "nbconvert_exporter": "python",
   "pygments_lexer": "ipython3",
   "version": "3.11.5"
  }
 },
 "nbformat": 4,
 "nbformat_minor": 5
}
